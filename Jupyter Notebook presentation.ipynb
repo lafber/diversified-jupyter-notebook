{
 "cells": [
  {
   "cell_type": "markdown",
   "metadata": {
    "slideshow": {
     "slide_type": "slide"
    }
   },
   "source": [
    "<img src=\"ressources/logo_jupyter.png\" />"
   ]
  },
  {
   "cell_type": "markdown",
   "metadata": {
    "slideshow": {
     "slide_type": "slide"
    }
   },
   "source": [
    "# What is Jupyter Notebook? \n",
    "\n",
    "The term notebook is used to denote a document which mix different types of elements like\n",
    "- code\n",
    "- interactive widgets\n",
    "- graphs\n",
    "- simple text\n",
    "- equations\n",
    "- images\n",
    "- video\n",
    "\n",
    "What make a Jupyter awesome and different is that it's an **interactive computing environment**. \n",
    "\n",
    "Which mean that part of **any code can be run lived and result displayed immediatly**.\n",
    "\n",
    "Each notebook provide a **complete and self-contained record of a computation**. You can replay it  share it and convert it to various formats. \n"
   ]
  },
  {
   "cell_type": "code",
   "execution_count": 6,
   "metadata": {
    "slideshow": {
     "slide_type": "slide"
    }
   },
   "outputs": [
    {
     "data": {
      "image/jpeg": "[encoded data removed]",
      "text/html": [
       "\n",
       "        <iframe\n",
       "            width=\"400\"\n",
       "            height=\"300\"\n",
       "            src=\"https://www.youtube.com/embed/HW29067qVWk\"\n",
       "            frameborder=\"0\"\n",
       "            allowfullscreen\n",
       "        ></iframe>\n",
       "        "
      ],
      "text/plain": [
       "<IPython.lib.display.YouTubeVideo at 0x1ef073f6550>"
      ]
     },
     "execution_count": 6,
     "metadata": {},
     "output_type": "execute_result"
    }
   ],
   "source": [
    "# Lets code a bit in Python\n",
    "from IPython.display import YouTubeVideo\n",
    "YouTubeVideo('HW29067qVWk')"
   ]
  },
  {
   "cell_type": "markdown",
   "metadata": {
    "slideshow": {
     "slide_type": "slide"
    }
   },
   "source": [
    "## Display a graph"
   ]
  },
  {
   "cell_type": "markdown",
   "metadata": {
    "slideshow": {
     "slide_type": "slide"
    }
   },
   "source": [
    "Let's upload some data from a csv file before. \n",
    "For example the number of notes in each SP of BW 7.40."
   ]
  },
  {
   "cell_type": "code",
   "execution_count": 2,
   "metadata": {
    "slideshow": {
     "slide_type": "slide"
    }
   },
   "outputs": [
    {
     "data": {
      "text/html": [
       "<a href='ressources/BW740SP.csv' target='_blank'>ressources/BW740SP.csv</a><br>"
      ],
      "text/plain": [
       "C:\\Users\\lafoube\\Documents\\programming\\diversified-jupyter-notebook\\ressources\\BW740SP.csv"
      ]
     },
     "metadata": {},
     "output_type": "display_data"
    }
   ],
   "source": [
    "from IPython.display import FileLink, FileLinks, display_pretty, display\n",
    "source_csv = FileLink(\"ressources/BW740SP.csv\")\n",
    "display(source_csv)"
   ]
  },
  {
   "cell_type": "code",
   "execution_count": 3,
   "metadata": {},
   "outputs": [
    {
     "name": "stdout",
     "output_type": "stream",
     "text": [
      "{'SP': ['SP18', 'SP17', 'SP16', 'SP15', 'SP14', 'SP13', 'SP12', 'SP11', 'SP10', 'SP09', 'SP08', 'SP07', 'SP06', 'SP05', 'SP04', 'SP03', 'SP02', 'SP01'], 'nb': [307, 868, 995, 748, 872, 660, 632, 682, 775, 695, 457, 729, 656, 313, 365, 451, 299, 9]}\n"
     ]
    }
   ],
   "source": [
    "import csv # csv package \n",
    "\n",
    "# Import source csv file\n",
    "\n",
    "my_sp = []\n",
    "my_nb = []\n",
    "my_data = {} # dictionary for source data\n",
    "\n",
    "with open('ressources/BW740SP.csv','r') as source_file:\n",
    "    csv_file = csv.reader(source_file)\n",
    "    next(csv_file)\n",
    "    for row in csv_file:\n",
    "        my_sp.append('SP' + row[0])\n",
    "        my_nb.append(int(row[3]))\n",
    "        \n",
    "my_data['SP'] = my_sp\n",
    "my_data['nb'] = my_nb\n",
    "        \n",
    "print (my_data)"
   ]
  },
  {
   "cell_type": "code",
   "execution_count": 4,
   "metadata": {},
   "outputs": [
    {
     "data": {
      "text/html": [
       "\n",
       "    <div class=\"bk-root\">\n",
       "        <a href=\"http://bokeh.pydata.org\" target=\"_blank\" class=\"bk-logo bk-logo-small bk-logo-notebook\"></a>\n",
       "        <span id=\"9a92e25b-1fa3-4895-9e07-768355fdd6b7\">Loading BokehJS ...</span>\n",
       "    </div>"
      ]
     },
     "metadata": {},
     "output_type": "display_data"
    },
    {
     "data": {
      "application/javascript": [
       "\n",
       "(function(global) {\n",
       "  function now() {\n",
       "    return new Date();\n",
       "  }\n",
       "\n",
       "  var force = true;\n",
       "\n",
       "  if (typeof (window._bokeh_onload_callbacks) === \"undefined\" || force === true) {\n",
       "    window._bokeh_onload_callbacks = [];\n",
       "    window._bokeh_is_loading = undefined;\n",
       "  }\n",
       "\n",
       "\n",
       "  \n",
       "  if (typeof (window._bokeh_timeout) === \"undefined\" || force === true) {\n",
       "    window._bokeh_timeout = Date.now() + 5000;\n",
       "    window._bokeh_failed_load = false;\n",
       "  }\n",
       "\n",
       "  var NB_LOAD_WARNING = {'data': {'text/html':\n",
       "     \"<div style='background-color: #fdd'>\\n\"+\n",
       "     \"<p>\\n\"+\n",
       "     \"BokehJS does not appear to have successfully loaded. If loading BokehJS from CDN, this \\n\"+\n",
       "     \"may be due to a slow or bad network connection. Possible fixes:\\n\"+\n",
       "     \"</p>\\n\"+\n",
       "     \"<ul>\\n\"+\n",
       "     \"<li>re-rerun `output_notebook()` to attempt to load from CDN again, or</li>\\n\"+\n",
       "     \"<li>use INLINE resources instead, as so:</li>\\n\"+\n",
       "     \"</ul>\\n\"+\n",
       "     \"<code>\\n\"+\n",
       "     \"from bokeh.resources import INLINE\\n\"+\n",
       "     \"output_notebook(resources=INLINE)\\n\"+\n",
       "     \"</code>\\n\"+\n",
       "     \"</div>\"}};\n",
       "\n",
       "  function display_loaded() {\n",
       "    if (window.Bokeh !== undefined) {\n",
       "      var el = document.getElementById(\"9a92e25b-1fa3-4895-9e07-768355fdd6b7\");\n",
       "      el.textContent = \"BokehJS \" + Bokeh.version + \" successfully loaded.\";\n",
       "    } else if (Date.now() < window._bokeh_timeout) {\n",
       "      setTimeout(display_loaded, 100)\n",
       "    }\n",
       "  }\n",
       "\n",
       "  function run_callbacks() {\n",
       "    window._bokeh_onload_callbacks.forEach(function(callback) { callback() });\n",
       "    delete window._bokeh_onload_callbacks\n",
       "    console.info(\"Bokeh: all callbacks have finished\");\n",
       "  }\n",
       "\n",
       "  function load_libs(js_urls, callback) {\n",
       "    window._bokeh_onload_callbacks.push(callback);\n",
       "    if (window._bokeh_is_loading > 0) {\n",
       "      console.log(\"Bokeh: BokehJS is being loaded, scheduling callback at\", now());\n",
       "      return null;\n",
       "    }\n",
       "    if (js_urls == null || js_urls.length === 0) {\n",
       "      run_callbacks();\n",
       "      return null;\n",
       "    }\n",
       "    console.log(\"Bokeh: BokehJS not loaded, scheduling load and callback at\", now());\n",
       "    window._bokeh_is_loading = js_urls.length;\n",
       "    for (var i = 0; i < js_urls.length; i++) {\n",
       "      var url = js_urls[i];\n",
       "      var s = document.createElement('script');\n",
       "      s.src = url;\n",
       "      s.async = false;\n",
       "      s.onreadystatechange = s.onload = function() {\n",
       "        window._bokeh_is_loading--;\n",
       "        if (window._bokeh_is_loading === 0) {\n",
       "          console.log(\"Bokeh: all BokehJS libraries loaded\");\n",
       "          run_callbacks()\n",
       "        }\n",
       "      };\n",
       "      s.onerror = function() {\n",
       "        console.warn(\"failed to load library \" + url);\n",
       "      };\n",
       "      console.log(\"Bokeh: injecting script tag for BokehJS library: \", url);\n",
       "      document.getElementsByTagName(\"head\")[0].appendChild(s);\n",
       "    }\n",
       "  };var element = document.getElementById(\"9a92e25b-1fa3-4895-9e07-768355fdd6b7\");\n",
       "  if (element == null) {\n",
       "    console.log(\"Bokeh: ERROR: autoload.js configured with elementid '9a92e25b-1fa3-4895-9e07-768355fdd6b7' but no matching script tag was found. \")\n",
       "    return false;\n",
       "  }\n",
       "\n",
       "  var js_urls = [\"https://cdn.pydata.org/bokeh/release/bokeh-0.12.5.min.js\", \"https://cdn.pydata.org/bokeh/release/bokeh-widgets-0.12.5.min.js\"];\n",
       "\n",
       "  var inline_js = [\n",
       "    function(Bokeh) {\n",
       "      Bokeh.set_log_level(\"info\");\n",
       "    },\n",
       "    \n",
       "    function(Bokeh) {\n",
       "      \n",
       "    },\n",
       "    \n",
       "    function(Bokeh) {\n",
       "      \n",
       "      document.getElementById(\"9a92e25b-1fa3-4895-9e07-768355fdd6b7\").textContent = \"BokehJS is loading...\";\n",
       "    },\n",
       "    function(Bokeh) {\n",
       "      console.log(\"Bokeh: injecting CSS: https://cdn.pydata.org/bokeh/release/bokeh-0.12.5.min.css\");\n",
       "      Bokeh.embed.inject_css(\"https://cdn.pydata.org/bokeh/release/bokeh-0.12.5.min.css\");\n",
       "      console.log(\"Bokeh: injecting CSS: https://cdn.pydata.org/bokeh/release/bokeh-widgets-0.12.5.min.css\");\n",
       "      Bokeh.embed.inject_css(\"https://cdn.pydata.org/bokeh/release/bokeh-widgets-0.12.5.min.css\");\n",
       "    }\n",
       "  ];\n",
       "\n",
       "  function run_inline_js() {\n",
       "    \n",
       "    if ((window.Bokeh !== undefined) || (force === true)) {\n",
       "      for (var i = 0; i < inline_js.length; i++) {\n",
       "        inline_js[i](window.Bokeh);\n",
       "      }if (force === true) {\n",
       "        display_loaded();\n",
       "      }} else if (Date.now() < window._bokeh_timeout) {\n",
       "      setTimeout(run_inline_js, 100);\n",
       "    } else if (!window._bokeh_failed_load) {\n",
       "      console.log(\"Bokeh: BokehJS failed to load within specified timeout.\");\n",
       "      window._bokeh_failed_load = true;\n",
       "    } else if (force !== true) {\n",
       "      var cell = $(document.getElementById(\"9a92e25b-1fa3-4895-9e07-768355fdd6b7\")).parents('.cell').data().cell;\n",
       "      cell.output_area.append_execute_result(NB_LOAD_WARNING)\n",
       "    }\n",
       "\n",
       "  }\n",
       "\n",
       "  if (window._bokeh_is_loading === 0) {\n",
       "    console.log(\"Bokeh: BokehJS loaded, going straight to plotting\");\n",
       "    run_inline_js();\n",
       "  } else {\n",
       "    load_libs(js_urls, function() {\n",
       "      console.log(\"Bokeh: BokehJS plotting callback run at\", now());\n",
       "      run_inline_js();\n",
       "    });\n",
       "  }\n",
       "}(this));"
      ]
     },
     "metadata": {},
     "output_type": "display_data"
    }
   ],
   "source": [
    "# loading Bokeh\n",
    "from bokeh.charts import Bar, output_notebook, show\n",
    "\n",
    "# output to notebook\n",
    "output_notebook() \n",
    "\n",
    "# prepare some data\n",
    "plot = Bar(my_data, label='SP', values='nb', color=\"#01A1DD\", \n",
    "           legend=False, title='Number of notes per SP')"
   ]
  },
  {
   "cell_type": "code",
   "execution_count": 5,
   "metadata": {},
   "outputs": [
    {
     "data": {
      "text/html": [
       "\n",
       "\n",
       "    <div class=\"bk-root\">\n",
       "        <div class=\"bk-plotdiv\" id=\"e62a9785-9e0a-4580-96c8-5384f6e7676c\"></div>\n",
       "    </div>\n",
       "<script type=\"text/javascript\">\n",
       "  \n",
       "  (function(global) {\n",
       "    function now() {\n",
       "      return new Date();\n",
       "    }\n",
       "  \n",
       "    var force = false;\n",
       "  \n",
       "    if (typeof (window._bokeh_onload_callbacks) === \"undefined\" || force === true) {\n",
       "      window._bokeh_onload_callbacks = [];\n",
       "      window._bokeh_is_loading = undefined;\n",
       "    }\n",
       "  \n",
       "  \n",
       "    \n",
       "    if (typeof (window._bokeh_timeout) === \"undefined\" || force === true) {\n",
       "      window._bokeh_timeout = Date.now() + 0;\n",
       "      window._bokeh_failed_load = false;\n",
       "    }\n",
       "  \n",
       "    var NB_LOAD_WARNING = {'data': {'text/html':\n",
       "       \"<div style='background-color: #fdd'>\\n\"+\n",
       "       \"<p>\\n\"+\n",
       "       \"BokehJS does not appear to have successfully loaded. If loading BokehJS from CDN, this \\n\"+\n",
       "       \"may be due to a slow or bad network connection. Possible fixes:\\n\"+\n",
       "       \"</p>\\n\"+\n",
       "       \"<ul>\\n\"+\n",
       "       \"<li>re-rerun `output_notebook()` to attempt to load from CDN again, or</li>\\n\"+\n",
       "       \"<li>use INLINE resources instead, as so:</li>\\n\"+\n",
       "       \"</ul>\\n\"+\n",
       "       \"<code>\\n\"+\n",
       "       \"from bokeh.resources import INLINE\\n\"+\n",
       "       \"output_notebook(resources=INLINE)\\n\"+\n",
       "       \"</code>\\n\"+\n",
       "       \"</div>\"}};\n",
       "  \n",
       "    function display_loaded() {\n",
       "      if (window.Bokeh !== undefined) {\n",
       "        var el = document.getElementById(\"e62a9785-9e0a-4580-96c8-5384f6e7676c\");\n",
       "        el.textContent = \"BokehJS \" + Bokeh.version + \" successfully loaded.\";\n",
       "      } else if (Date.now() < window._bokeh_timeout) {\n",
       "        setTimeout(display_loaded, 100)\n",
       "      }\n",
       "    }\n",
       "  \n",
       "    function run_callbacks() {\n",
       "      window._bokeh_onload_callbacks.forEach(function(callback) { callback() });\n",
       "      delete window._bokeh_onload_callbacks\n",
       "      console.info(\"Bokeh: all callbacks have finished\");\n",
       "    }\n",
       "  \n",
       "    function load_libs(js_urls, callback) {\n",
       "      window._bokeh_onload_callbacks.push(callback);\n",
       "      if (window._bokeh_is_loading > 0) {\n",
       "        console.log(\"Bokeh: BokehJS is being loaded, scheduling callback at\", now());\n",
       "        return null;\n",
       "      }\n",
       "      if (js_urls == null || js_urls.length === 0) {\n",
       "        run_callbacks();\n",
       "        return null;\n",
       "      }\n",
       "      console.log(\"Bokeh: BokehJS not loaded, scheduling load and callback at\", now());\n",
       "      window._bokeh_is_loading = js_urls.length;\n",
       "      for (var i = 0; i < js_urls.length; i++) {\n",
       "        var url = js_urls[i];\n",
       "        var s = document.createElement('script');\n",
       "        s.src = url;\n",
       "        s.async = false;\n",
       "        s.onreadystatechange = s.onload = function() {\n",
       "          window._bokeh_is_loading--;\n",
       "          if (window._bokeh_is_loading === 0) {\n",
       "            console.log(\"Bokeh: all BokehJS libraries loaded\");\n",
       "            run_callbacks()\n",
       "          }\n",
       "        };\n",
       "        s.onerror = function() {\n",
       "          console.warn(\"failed to load library \" + url);\n",
       "        };\n",
       "        console.log(\"Bokeh: injecting script tag for BokehJS library: \", url);\n",
       "        document.getElementsByTagName(\"head\")[0].appendChild(s);\n",
       "      }\n",
       "    };var element = document.getElementById(\"e62a9785-9e0a-4580-96c8-5384f6e7676c\");\n",
       "    if (element == null) {\n",
       "      console.log(\"Bokeh: ERROR: autoload.js configured with elementid 'e62a9785-9e0a-4580-96c8-5384f6e7676c' but no matching script tag was found. \")\n",
       "      return false;\n",
       "    }\n",
       "  \n",
       "    var js_urls = [];\n",
       "  \n",
       "    var inline_js = [\n",
       "      function(Bokeh) {\n",
       "        (function() {\n",
       "          var fn = function() {\n",
       "            var docs_json = {\"7b9475e9-920d-45d2-90ab-cf17f541d074\":{\"roots\":{\"references\":[{\"attributes\":{\"callback\":null,\"column_names\":[\"x\",\"y\",\"width\",\"height\",\"color\",\"fill_alpha\",\"line_color\",\"line_alpha\",\"label\"],\"data\":{\"SP\":[\"SP17\"],\"chart_index\":[{\"SP\":\"SP17\"}],\"color\":[\"#01A1DD\"],\"fill_alpha\":[0.8],\"height\":[868.0],\"label\":[{\"SP\":\"SP17\"}],\"line_alpha\":[1.0],\"line_color\":[\"white\"],\"width\":[0.8],\"x\":[\"SP17\"],\"y\":[434.0]}},\"id\":\"e2d5457b-a380-4399-93d2-d55c77d1b696\",\"type\":\"ColumnDataSource\"},{\"attributes\":{\"callback\":null,\"column_names\":[\"x\",\"y\",\"width\",\"height\",\"color\",\"fill_alpha\",\"line_color\",\"line_alpha\",\"label\"],\"data\":{\"SP\":[\"SP09\"],\"chart_index\":[{\"SP\":\"SP09\"}],\"color\":[\"#01A1DD\"],\"fill_alpha\":[0.8],\"height\":[695.0],\"label\":[{\"SP\":\"SP09\"}],\"line_alpha\":[1.0],\"line_color\":[\"white\"],\"width\":[0.8],\"x\":[\"SP09\"],\"y\":[347.5]}},\"id\":\"295a625a-4982-4877-8d26-edcb93291083\",\"type\":\"ColumnDataSource\"},{\"attributes\":{\"axis_label\":\"Sp\",\"formatter\":{\"id\":\"8d451518-3348-408a-8651-890444c94a40\",\"type\":\"CategoricalTickFormatter\"},\"major_label_orientation\":0.7853981633974483,\"plot\":{\"id\":\"51978897-52af-41b5-bfed-9a230b5d9341\",\"subtype\":\"Chart\",\"type\":\"Plot\"},\"ticker\":{\"id\":\"8e64171c-c0af-436c-940b-1c9721bd90b7\",\"type\":\"CategoricalTicker\"}},\"id\":\"0b5777f5-3e29-4f6e-a180-b98d58c8bd23\",\"type\":\"CategoricalAxis\"},{\"attributes\":{\"data_source\":{\"id\":\"16d3d0ec-2257-4d66-9c25-15c9b1fdf326\",\"type\":\"ColumnDataSource\"},\"glyph\":{\"id\":\"711a3c7b-7441-400b-baea-45ffc7daf9cd\",\"type\":\"Rect\"},\"hover_glyph\":null,\"muted_glyph\":null},\"id\":\"b3b89296-55a8-4970-8468-fa816ab07daf\",\"type\":\"GlyphRenderer\"},{\"attributes\":{\"callback\":null,\"column_names\":[\"x\",\"y\",\"width\",\"height\",\"color\",\"fill_alpha\",\"line_color\",\"line_alpha\",\"label\"],\"data\":{\"SP\":[\"SP16\"],\"chart_index\":[{\"SP\":\"SP16\"}],\"color\":[\"#01A1DD\"],\"fill_alpha\":[0.8],\"height\":[995.0],\"label\":[{\"SP\":\"SP16\"}],\"line_alpha\":[1.0],\"line_color\":[\"white\"],\"width\":[0.8],\"x\":[\"SP16\"],\"y\":[497.5]}},\"id\":\"f9125ea3-3999-4bb5-9714-f259ed69bd0f\",\"type\":\"ColumnDataSource\"},{\"attributes\":{\"callback\":null,\"column_names\":[\"x\",\"y\",\"width\",\"height\",\"color\",\"fill_alpha\",\"line_color\",\"line_alpha\",\"label\"],\"data\":{\"SP\":[\"SP10\"],\"chart_index\":[{\"SP\":\"SP10\"}],\"color\":[\"#01A1DD\"],\"fill_alpha\":[0.8],\"height\":[775.0],\"label\":[{\"SP\":\"SP10\"}],\"line_alpha\":[1.0],\"line_color\":[\"white\"],\"width\":[0.8],\"x\":[\"SP10\"],\"y\":[387.5]}},\"id\":\"3d46238a-d13d-4214-8548-802eea0b6a98\",\"type\":\"ColumnDataSource\"},{\"attributes\":{\"fill_alpha\":{\"field\":\"fill_alpha\"},\"fill_color\":{\"field\":\"color\"},\"height\":{\"field\":\"height\",\"units\":\"data\"},\"line_color\":{\"field\":\"line_color\"},\"width\":{\"field\":\"width\",\"units\":\"data\"},\"x\":{\"field\":\"x\"},\"y\":{\"field\":\"y\"}},\"id\":\"734217bf-3b1f-4e13-878e-5b18f437b451\",\"type\":\"Rect\"},{\"attributes\":{\"callback\":null,\"column_names\":[\"x\",\"y\",\"width\",\"height\",\"color\",\"fill_alpha\",\"line_color\",\"line_alpha\",\"label\"],\"data\":{\"SP\":[\"SP08\"],\"chart_index\":[{\"SP\":\"SP08\"}],\"color\":[\"#01A1DD\"],\"fill_alpha\":[0.8],\"height\":[457.0],\"label\":[{\"SP\":\"SP08\"}],\"line_alpha\":[1.0],\"line_color\":[\"white\"],\"width\":[0.8],\"x\":[\"SP08\"],\"y\":[228.5]}},\"id\":\"793bcfea-3055-46a8-8bf8-90041e48369c\",\"type\":\"ColumnDataSource\"},{\"attributes\":{\"callback\":null,\"column_names\":[\"x\",\"y\",\"width\",\"height\",\"color\",\"fill_alpha\",\"line_color\",\"line_alpha\",\"label\"],\"data\":{\"SP\":[\"SP03\"],\"chart_index\":[{\"SP\":\"SP03\"}],\"color\":[\"#01A1DD\"],\"fill_alpha\":[0.8],\"height\":[451.0],\"label\":[{\"SP\":\"SP03\"}],\"line_alpha\":[1.0],\"line_color\":[\"white\"],\"width\":[0.8],\"x\":[\"SP03\"],\"y\":[225.5]}},\"id\":\"781e0208-dad9-4d34-9d56-e3ce9839c5c0\",\"type\":\"ColumnDataSource\"},{\"attributes\":{\"data_source\":{\"id\":\"781e0208-dad9-4d34-9d56-e3ce9839c5c0\",\"type\":\"ColumnDataSource\"},\"glyph\":{\"id\":\"a9b6238e-1aa8-4441-b23f-34384ae54a53\",\"type\":\"Rect\"},\"hover_glyph\":null,\"muted_glyph\":null},\"id\":\"9e089c7e-6daf-4a93-9f11-d81302653575\",\"type\":\"GlyphRenderer\"},{\"attributes\":{\"callback\":null,\"column_names\":[\"x\",\"y\",\"width\",\"height\",\"color\",\"fill_alpha\",\"line_color\",\"line_alpha\",\"label\"],\"data\":{\"SP\":[\"SP02\"],\"chart_index\":[{\"SP\":\"SP02\"}],\"color\":[\"#01A1DD\"],\"fill_alpha\":[0.8],\"height\":[299.0],\"label\":[{\"SP\":\"SP02\"}],\"line_alpha\":[1.0],\"line_color\":[\"white\"],\"width\":[0.8],\"x\":[\"SP02\"],\"y\":[149.5]}},\"id\":\"aa5431f0-451a-46ae-b29c-a4a4974842aa\",\"type\":\"ColumnDataSource\"},{\"attributes\":{\"axis_label\":\"Sum( Nb )\",\"formatter\":{\"id\":\"48c79cd9-8d6c-4b75-888a-4b7396202f62\",\"type\":\"BasicTickFormatter\"},\"plot\":{\"id\":\"51978897-52af-41b5-bfed-9a230b5d9341\",\"subtype\":\"Chart\",\"type\":\"Plot\"},\"ticker\":{\"id\":\"8313dd94-b308-4f69-a05d-222e34bbbc8b\",\"type\":\"BasicTicker\"}},\"id\":\"e9b4baf7-0f4e-46fb-9ace-5e43d568aabb\",\"type\":\"LinearAxis\"},{\"attributes\":{\"data_source\":{\"id\":\"e2d5457b-a380-4399-93d2-d55c77d1b696\",\"type\":\"ColumnDataSource\"},\"glyph\":{\"id\":\"734217bf-3b1f-4e13-878e-5b18f437b451\",\"type\":\"Rect\"},\"hover_glyph\":null,\"muted_glyph\":null},\"id\":\"08c17b0e-a1a6-40e6-a852-b45dc310a070\",\"type\":\"GlyphRenderer\"},{\"attributes\":{\"callback\":null,\"column_names\":[\"x\",\"y\",\"width\",\"height\",\"color\",\"fill_alpha\",\"line_color\",\"line_alpha\",\"label\"],\"data\":{\"SP\":[\"SP04\"],\"chart_index\":[{\"SP\":\"SP04\"}],\"color\":[\"#01A1DD\"],\"fill_alpha\":[0.8],\"height\":[365.0],\"label\":[{\"SP\":\"SP04\"}],\"line_alpha\":[1.0],\"line_color\":[\"white\"],\"width\":[0.8],\"x\":[\"SP04\"],\"y\":[182.5]}},\"id\":\"6374135f-dcc5-4ddb-bd42-36870adcf55b\",\"type\":\"ColumnDataSource\"},{\"attributes\":{\"data_source\":{\"id\":\"3d46238a-d13d-4214-8548-802eea0b6a98\",\"type\":\"ColumnDataSource\"},\"glyph\":{\"id\":\"37bb99d5-c63e-4380-a045-c6e1e5292973\",\"type\":\"Rect\"},\"hover_glyph\":null,\"muted_glyph\":null},\"id\":\"fa7e3e01-eb16-415d-a9a8-d8fe6d892bca\",\"type\":\"GlyphRenderer\"},{\"attributes\":{\"fill_alpha\":{\"field\":\"fill_alpha\"},\"fill_color\":{\"field\":\"color\"},\"height\":{\"field\":\"height\",\"units\":\"data\"},\"line_color\":{\"field\":\"line_color\"},\"width\":{\"field\":\"width\",\"units\":\"data\"},\"x\":{\"field\":\"x\"},\"y\":{\"field\":\"y\"}},\"id\":\"711a3c7b-7441-400b-baea-45ffc7daf9cd\",\"type\":\"Rect\"},{\"attributes\":{\"data_source\":{\"id\":\"b9537a4d-219c-4da0-9761-32390521c985\",\"type\":\"ColumnDataSource\"},\"glyph\":{\"id\":\"503c02cf-c706-4c41-94c3-b8c00df4f135\",\"type\":\"Rect\"},\"hover_glyph\":null,\"muted_glyph\":null},\"id\":\"8fa6639f-be95-4f7a-9afa-5c30d701c7a4\",\"type\":\"GlyphRenderer\"},{\"attributes\":{\"below\":[{\"id\":\"0b5777f5-3e29-4f6e-a180-b98d58c8bd23\",\"type\":\"CategoricalAxis\"}],\"css_classes\":null,\"left\":[{\"id\":\"e9b4baf7-0f4e-46fb-9ace-5e43d568aabb\",\"type\":\"LinearAxis\"}],\"renderers\":[{\"id\":\"2a2ef5e0-6a1b-4002-a222-8837714de330\",\"type\":\"BoxAnnotation\"},{\"id\":\"193748ed-9b08-4173-ba06-fd405ed799c7\",\"type\":\"GlyphRenderer\"},{\"id\":\"08c17b0e-a1a6-40e6-a852-b45dc310a070\",\"type\":\"GlyphRenderer\"},{\"id\":\"24b5d6f3-df3f-48cf-9e07-10293c69d0ca\",\"type\":\"GlyphRenderer\"},{\"id\":\"da6842bc-0612-41b6-82b0-a0cc9db57185\",\"type\":\"GlyphRenderer\"},{\"id\":\"728446a8-2b0c-4855-b5b2-a78904c82f61\",\"type\":\"GlyphRenderer\"},{\"id\":\"7298d364-16b8-4f63-82d5-3835db75a5c6\",\"type\":\"GlyphRenderer\"},{\"id\":\"237c1547-a54c-4741-a287-dd8e7cdd45c2\",\"type\":\"GlyphRenderer\"},{\"id\":\"b3b89296-55a8-4970-8468-fa816ab07daf\",\"type\":\"GlyphRenderer\"},{\"id\":\"fa7e3e01-eb16-415d-a9a8-d8fe6d892bca\",\"type\":\"GlyphRenderer\"},{\"id\":\"db55626b-687f-443b-81a5-fa98cc0a082b\",\"type\":\"GlyphRenderer\"},{\"id\":\"00e156f3-5519-4016-8806-e5f6fd62a21b\",\"type\":\"GlyphRenderer\"},{\"id\":\"ee7029d2-0224-43f4-817d-33194bf320da\",\"type\":\"GlyphRenderer\"},{\"id\":\"8fa6639f-be95-4f7a-9afa-5c30d701c7a4\",\"type\":\"GlyphRenderer\"},{\"id\":\"01e26726-d512-42c0-828e-36decd638d66\",\"type\":\"GlyphRenderer\"},{\"id\":\"c7a8d29e-c710-4556-b7c1-670d465472c2\",\"type\":\"GlyphRenderer\"},{\"id\":\"9e089c7e-6daf-4a93-9f11-d81302653575\",\"type\":\"GlyphRenderer\"},{\"id\":\"f71e08b5-2254-430c-b247-1d92f8f16798\",\"type\":\"GlyphRenderer\"},{\"id\":\"ec4ec12e-c5d6-4845-82e0-c1d4be740436\",\"type\":\"GlyphRenderer\"},{\"id\":\"0b5777f5-3e29-4f6e-a180-b98d58c8bd23\",\"type\":\"CategoricalAxis\"},{\"id\":\"e9b4baf7-0f4e-46fb-9ace-5e43d568aabb\",\"type\":\"LinearAxis\"},{\"id\":\"6842fe8b-ede3-4281-8908-f54e47782de6\",\"type\":\"Grid\"}],\"title\":{\"id\":\"b2570f36-c1ac-47a5-9f86-af43b4e4f456\",\"type\":\"Title\"},\"tool_events\":{\"id\":\"946421b6-7707-42bd-8dbf-798940340f5e\",\"type\":\"ToolEvents\"},\"toolbar\":{\"id\":\"43bf599a-5166-4736-9cf2-137112672e74\",\"type\":\"Toolbar\"},\"x_mapper_type\":\"auto\",\"x_range\":{\"id\":\"fe3dd067-5472-49c2-8441-14988d473966\",\"type\":\"FactorRange\"},\"y_mapper_type\":\"auto\",\"y_range\":{\"id\":\"6e378aff-b3c9-4818-b030-0fb65e0f69dc\",\"type\":\"Range1d\"}},\"id\":\"51978897-52af-41b5-bfed-9a230b5d9341\",\"subtype\":\"Chart\",\"type\":\"Plot\"},{\"attributes\":{\"callback\":null,\"column_names\":[\"x\",\"y\",\"width\",\"height\",\"color\",\"fill_alpha\",\"line_color\",\"line_alpha\",\"label\"],\"data\":{\"SP\":[\"SP14\"],\"chart_index\":[{\"SP\":\"SP14\"}],\"color\":[\"#01A1DD\"],\"fill_alpha\":[0.8],\"height\":[872.0],\"label\":[{\"SP\":\"SP14\"}],\"line_alpha\":[1.0],\"line_color\":[\"white\"],\"width\":[0.8],\"x\":[\"SP14\"],\"y\":[436.0]}},\"id\":\"a709869e-b1af-4979-8f3f-68ca36a8ff55\",\"type\":\"ColumnDataSource\"},{\"attributes\":{\"fill_alpha\":{\"field\":\"fill_alpha\"},\"fill_color\":{\"field\":\"color\"},\"height\":{\"field\":\"height\",\"units\":\"data\"},\"line_color\":{\"field\":\"line_color\"},\"width\":{\"field\":\"width\",\"units\":\"data\"},\"x\":{\"field\":\"x\"},\"y\":{\"field\":\"y\"}},\"id\":\"c47c8c4d-2fa7-4b2f-997c-4cb8c3b2f3f7\",\"type\":\"Rect\"},{\"attributes\":{\"data_source\":{\"id\":\"b4a7b6e7-0600-478e-a4a8-23dc595bf866\",\"type\":\"ColumnDataSource\"},\"glyph\":{\"id\":\"b4373a32-0849-4360-a90c-39fee6a9b03a\",\"type\":\"Rect\"},\"hover_glyph\":null,\"muted_glyph\":null},\"id\":\"193748ed-9b08-4173-ba06-fd405ed799c7\",\"type\":\"GlyphRenderer\"},{\"attributes\":{\"data_source\":{\"id\":\"aa5431f0-451a-46ae-b29c-a4a4974842aa\",\"type\":\"ColumnDataSource\"},\"glyph\":{\"id\":\"c650de56-f228-451d-9d9a-b570463ff1da\",\"type\":\"Rect\"},\"hover_glyph\":null,\"muted_glyph\":null},\"id\":\"f71e08b5-2254-430c-b247-1d92f8f16798\",\"type\":\"GlyphRenderer\"},{\"attributes\":{\"fill_alpha\":{\"field\":\"fill_alpha\"},\"fill_color\":{\"field\":\"color\"},\"height\":{\"field\":\"height\",\"units\":\"data\"},\"line_color\":{\"field\":\"line_color\"},\"width\":{\"field\":\"width\",\"units\":\"data\"},\"x\":{\"field\":\"x\"},\"y\":{\"field\":\"y\"}},\"id\":\"37bb99d5-c63e-4380-a045-c6e1e5292973\",\"type\":\"Rect\"},{\"attributes\":{},\"id\":\"946421b6-7707-42bd-8dbf-798940340f5e\",\"type\":\"ToolEvents\"},{\"attributes\":{\"callback\":null,\"column_names\":[\"x\",\"y\",\"width\",\"height\",\"color\",\"fill_alpha\",\"line_color\",\"line_alpha\",\"label\"],\"data\":{\"SP\":[\"SP15\"],\"chart_index\":[{\"SP\":\"SP15\"}],\"color\":[\"#01A1DD\"],\"fill_alpha\":[0.8],\"height\":[748.0],\"label\":[{\"SP\":\"SP15\"}],\"line_alpha\":[1.0],\"line_color\":[\"white\"],\"width\":[0.8],\"x\":[\"SP15\"],\"y\":[374.0]}},\"id\":\"ad0b60a7-fcff-4d0f-bf60-eb62fa1a9e80\",\"type\":\"ColumnDataSource\"},{\"attributes\":{\"fill_alpha\":{\"field\":\"fill_alpha\"},\"fill_color\":{\"field\":\"color\"},\"height\":{\"field\":\"height\",\"units\":\"data\"},\"line_color\":{\"field\":\"line_color\"},\"width\":{\"field\":\"width\",\"units\":\"data\"},\"x\":{\"field\":\"x\"},\"y\":{\"field\":\"y\"}},\"id\":\"822ad150-e66e-472c-a136-d1fa7e22526e\",\"type\":\"Rect\"},{\"attributes\":{\"fill_alpha\":{\"field\":\"fill_alpha\"},\"fill_color\":{\"field\":\"color\"},\"height\":{\"field\":\"height\",\"units\":\"data\"},\"line_color\":{\"field\":\"line_color\"},\"width\":{\"field\":\"width\",\"units\":\"data\"},\"x\":{\"field\":\"x\"},\"y\":{\"field\":\"y\"}},\"id\":\"2f6f861a-1637-4eeb-acf0-1e6576f7d112\",\"type\":\"Rect\"},{\"attributes\":{\"dimension\":1,\"plot\":{\"id\":\"51978897-52af-41b5-bfed-9a230b5d9341\",\"subtype\":\"Chart\",\"type\":\"Plot\"},\"ticker\":{\"id\":\"8313dd94-b308-4f69-a05d-222e34bbbc8b\",\"type\":\"BasicTicker\"}},\"id\":\"6842fe8b-ede3-4281-8908-f54e47782de6\",\"type\":\"Grid\"},{\"attributes\":{\"callback\":null,\"column_names\":[\"x\",\"y\",\"width\",\"height\",\"color\",\"fill_alpha\",\"line_color\",\"line_alpha\",\"label\"],\"data\":{\"SP\":[\"SP18\"],\"chart_index\":[{\"SP\":\"SP18\"}],\"color\":[\"#01A1DD\"],\"fill_alpha\":[0.8],\"height\":[307.0],\"label\":[{\"SP\":\"SP18\"}],\"line_alpha\":[1.0],\"line_color\":[\"white\"],\"width\":[0.8],\"x\":[\"SP18\"],\"y\":[153.5]}},\"id\":\"b4a7b6e7-0600-478e-a4a8-23dc595bf866\",\"type\":\"ColumnDataSource\"},{\"attributes\":{\"fill_alpha\":{\"field\":\"fill_alpha\"},\"fill_color\":{\"field\":\"color\"},\"height\":{\"field\":\"height\",\"units\":\"data\"},\"line_color\":{\"field\":\"line_color\"},\"width\":{\"field\":\"width\",\"units\":\"data\"},\"x\":{\"field\":\"x\"},\"y\":{\"field\":\"y\"}},\"id\":\"c650de56-f228-451d-9d9a-b570463ff1da\",\"type\":\"Rect\"},{\"attributes\":{\"data_source\":{\"id\":\"295a625a-4982-4877-8d26-edcb93291083\",\"type\":\"ColumnDataSource\"},\"glyph\":{\"id\":\"c47c8c4d-2fa7-4b2f-997c-4cb8c3b2f3f7\",\"type\":\"Rect\"},\"hover_glyph\":null,\"muted_glyph\":null},\"id\":\"db55626b-687f-443b-81a5-fa98cc0a082b\",\"type\":\"GlyphRenderer\"},{\"attributes\":{},\"id\":\"8313dd94-b308-4f69-a05d-222e34bbbc8b\",\"type\":\"BasicTicker\"},{\"attributes\":{\"callback\":null,\"column_names\":[\"x\",\"y\",\"width\",\"height\",\"color\",\"fill_alpha\",\"line_color\",\"line_alpha\",\"label\"],\"data\":{\"SP\":[\"SP13\"],\"chart_index\":[{\"SP\":\"SP13\"}],\"color\":[\"#01A1DD\"],\"fill_alpha\":[0.8],\"height\":[660.0],\"label\":[{\"SP\":\"SP13\"}],\"line_alpha\":[1.0],\"line_color\":[\"white\"],\"width\":[0.8],\"x\":[\"SP13\"],\"y\":[330.0]}},\"id\":\"741888bd-42d2-4a3e-87d4-4b7af84c0b8b\",\"type\":\"ColumnDataSource\"},{\"attributes\":{\"fill_alpha\":{\"field\":\"fill_alpha\"},\"fill_color\":{\"field\":\"color\"},\"height\":{\"field\":\"height\",\"units\":\"data\"},\"line_color\":{\"field\":\"line_color\"},\"width\":{\"field\":\"width\",\"units\":\"data\"},\"x\":{\"field\":\"x\"},\"y\":{\"field\":\"y\"}},\"id\":\"b4373a32-0849-4360-a90c-39fee6a9b03a\",\"type\":\"Rect\"},{\"attributes\":{\"fill_alpha\":{\"field\":\"fill_alpha\"},\"fill_color\":{\"field\":\"color\"},\"height\":{\"field\":\"height\",\"units\":\"data\"},\"line_color\":{\"field\":\"line_color\"},\"width\":{\"field\":\"width\",\"units\":\"data\"},\"x\":{\"field\":\"x\"},\"y\":{\"field\":\"y\"}},\"id\":\"a9b6238e-1aa8-4441-b23f-34384ae54a53\",\"type\":\"Rect\"},{\"attributes\":{\"active_drag\":\"auto\",\"active_scroll\":\"auto\",\"active_tap\":\"auto\",\"tools\":[{\"id\":\"0c29a2d1-56d5-40a3-b9a0-8fe07ce61228\",\"type\":\"PanTool\"},{\"id\":\"d36d2e0d-e972-409d-b88d-31eea8d38b10\",\"type\":\"WheelZoomTool\"},{\"id\":\"f52acaeb-7e84-4d4c-a66b-1a8f027c460e\",\"type\":\"BoxZoomTool\"},{\"id\":\"e269b353-7a1c-4e9e-bdc5-5fef3e23d865\",\"type\":\"SaveTool\"},{\"id\":\"7fe6791c-23b4-4402-98f1-bf0c5579d47c\",\"type\":\"ResetTool\"},{\"id\":\"8ea94512-1a0f-4c48-b5ff-1a7087a40516\",\"type\":\"HelpTool\"}]},\"id\":\"43bf599a-5166-4736-9cf2-137112672e74\",\"type\":\"Toolbar\"},{\"attributes\":{\"fill_alpha\":{\"field\":\"fill_alpha\"},\"fill_color\":{\"field\":\"color\"},\"height\":{\"field\":\"height\",\"units\":\"data\"},\"line_color\":{\"field\":\"line_color\"},\"width\":{\"field\":\"width\",\"units\":\"data\"},\"x\":{\"field\":\"x\"},\"y\":{\"field\":\"y\"}},\"id\":\"d19d84d6-20a5-439a-817a-629c0ff2853b\",\"type\":\"Rect\"},{\"attributes\":{\"plot\":null,\"text\":\"Number of notes per SP\"},\"id\":\"b2570f36-c1ac-47a5-9f86-af43b4e4f456\",\"type\":\"Title\"},{\"attributes\":{\"callback\":null,\"column_names\":[\"x\",\"y\",\"width\",\"height\",\"color\",\"fill_alpha\",\"line_color\",\"line_alpha\",\"label\"],\"data\":{\"SP\":[\"SP12\"],\"chart_index\":[{\"SP\":\"SP12\"}],\"color\":[\"#01A1DD\"],\"fill_alpha\":[0.8],\"height\":[632.0],\"label\":[{\"SP\":\"SP12\"}],\"line_alpha\":[1.0],\"line_color\":[\"white\"],\"width\":[0.8],\"x\":[\"SP12\"],\"y\":[316.0]}},\"id\":\"7d05f6c7-1991-4a28-8b5d-d6f7535059b9\",\"type\":\"ColumnDataSource\"},{\"attributes\":{\"data_source\":{\"id\":\"f9125ea3-3999-4bb5-9714-f259ed69bd0f\",\"type\":\"ColumnDataSource\"},\"glyph\":{\"id\":\"822ad150-e66e-472c-a136-d1fa7e22526e\",\"type\":\"Rect\"},\"hover_glyph\":null,\"muted_glyph\":null},\"id\":\"24b5d6f3-df3f-48cf-9e07-10293c69d0ca\",\"type\":\"GlyphRenderer\"},{\"attributes\":{\"data_source\":{\"id\":\"8fe58e1b-058a-4e04-a819-4c0e2e4e7080\",\"type\":\"ColumnDataSource\"},\"glyph\":{\"id\":\"2f6f861a-1637-4eeb-acf0-1e6576f7d112\",\"type\":\"Rect\"},\"hover_glyph\":null,\"muted_glyph\":null},\"id\":\"ec4ec12e-c5d6-4845-82e0-c1d4be740436\",\"type\":\"GlyphRenderer\"},{\"attributes\":{\"callback\":null,\"end\":1044.75},\"id\":\"6e378aff-b3c9-4818-b030-0fb65e0f69dc\",\"type\":\"Range1d\"},{\"attributes\":{\"fill_alpha\":{\"field\":\"fill_alpha\"},\"fill_color\":{\"field\":\"color\"},\"height\":{\"field\":\"height\",\"units\":\"data\"},\"line_color\":{\"field\":\"line_color\"},\"width\":{\"field\":\"width\",\"units\":\"data\"},\"x\":{\"field\":\"x\"},\"y\":{\"field\":\"y\"}},\"id\":\"5540eb67-f287-49d0-9d6c-a60fda3e56a6\",\"type\":\"Rect\"},{\"attributes\":{\"callback\":null,\"column_names\":[\"x\",\"y\",\"width\",\"height\",\"color\",\"fill_alpha\",\"line_color\",\"line_alpha\",\"label\"],\"data\":{\"SP\":[\"SP07\"],\"chart_index\":[{\"SP\":\"SP07\"}],\"color\":[\"#01A1DD\"],\"fill_alpha\":[0.8],\"height\":[729.0],\"label\":[{\"SP\":\"SP07\"}],\"line_alpha\":[1.0],\"line_color\":[\"white\"],\"width\":[0.8],\"x\":[\"SP07\"],\"y\":[364.5]}},\"id\":\"0454ae2b-b69e-4177-905c-a012b20dcda5\",\"type\":\"ColumnDataSource\"},{\"attributes\":{\"data_source\":{\"id\":\"793bcfea-3055-46a8-8bf8-90041e48369c\",\"type\":\"ColumnDataSource\"},\"glyph\":{\"id\":\"d19d84d6-20a5-439a-817a-629c0ff2853b\",\"type\":\"Rect\"},\"hover_glyph\":null,\"muted_glyph\":null},\"id\":\"00e156f3-5519-4016-8806-e5f6fd62a21b\",\"type\":\"GlyphRenderer\"},{\"attributes\":{\"fill_alpha\":{\"field\":\"fill_alpha\"},\"fill_color\":{\"field\":\"color\"},\"height\":{\"field\":\"height\",\"units\":\"data\"},\"line_color\":{\"field\":\"line_color\"},\"width\":{\"field\":\"width\",\"units\":\"data\"},\"x\":{\"field\":\"x\"},\"y\":{\"field\":\"y\"}},\"id\":\"f1aece5b-669d-48cb-8f2b-75a4eaccd4cb\",\"type\":\"Rect\"},{\"attributes\":{\"data_source\":{\"id\":\"ad0b60a7-fcff-4d0f-bf60-eb62fa1a9e80\",\"type\":\"ColumnDataSource\"},\"glyph\":{\"id\":\"5540eb67-f287-49d0-9d6c-a60fda3e56a6\",\"type\":\"Rect\"},\"hover_glyph\":null,\"muted_glyph\":null},\"id\":\"da6842bc-0612-41b6-82b0-a0cc9db57185\",\"type\":\"GlyphRenderer\"},{\"attributes\":{\"callback\":null,\"column_names\":[\"x\",\"y\",\"width\",\"height\",\"color\",\"fill_alpha\",\"line_color\",\"line_alpha\",\"label\"],\"data\":{\"SP\":[\"SP06\"],\"chart_index\":[{\"SP\":\"SP06\"}],\"color\":[\"#01A1DD\"],\"fill_alpha\":[0.8],\"height\":[656.0],\"label\":[{\"SP\":\"SP06\"}],\"line_alpha\":[1.0],\"line_color\":[\"white\"],\"width\":[0.8],\"x\":[\"SP06\"],\"y\":[328.0]}},\"id\":\"b9537a4d-219c-4da0-9761-32390521c985\",\"type\":\"ColumnDataSource\"},{\"attributes\":{\"fill_alpha\":{\"field\":\"fill_alpha\"},\"fill_color\":{\"field\":\"color\"},\"height\":{\"field\":\"height\",\"units\":\"data\"},\"line_color\":{\"field\":\"line_color\"},\"width\":{\"field\":\"width\",\"units\":\"data\"},\"x\":{\"field\":\"x\"},\"y\":{\"field\":\"y\"}},\"id\":\"5f6fcdb6-8f40-4cbd-bc7b-8c5f238f9656\",\"type\":\"Rect\"},{\"attributes\":{\"fill_alpha\":{\"field\":\"fill_alpha\"},\"fill_color\":{\"field\":\"color\"},\"height\":{\"field\":\"height\",\"units\":\"data\"},\"line_color\":{\"field\":\"line_color\"},\"width\":{\"field\":\"width\",\"units\":\"data\"},\"x\":{\"field\":\"x\"},\"y\":{\"field\":\"y\"}},\"id\":\"503c02cf-c706-4c41-94c3-b8c00df4f135\",\"type\":\"Rect\"},{\"attributes\":{\"data_source\":{\"id\":\"6374135f-dcc5-4ddb-bd42-36870adcf55b\",\"type\":\"ColumnDataSource\"},\"glyph\":{\"id\":\"99d1c6f5-add9-473b-a141-dbe00e945a5e\",\"type\":\"Rect\"},\"hover_glyph\":null,\"muted_glyph\":null},\"id\":\"c7a8d29e-c710-4556-b7c1-670d465472c2\",\"type\":\"GlyphRenderer\"},{\"attributes\":{\"data_source\":{\"id\":\"0454ae2b-b69e-4177-905c-a012b20dcda5\",\"type\":\"ColumnDataSource\"},\"glyph\":{\"id\":\"f1aece5b-669d-48cb-8f2b-75a4eaccd4cb\",\"type\":\"Rect\"},\"hover_glyph\":null,\"muted_glyph\":null},\"id\":\"ee7029d2-0224-43f4-817d-33194bf320da\",\"type\":\"GlyphRenderer\"},{\"attributes\":{},\"id\":\"8e64171c-c0af-436c-940b-1c9721bd90b7\",\"type\":\"CategoricalTicker\"},{\"attributes\":{},\"id\":\"8d451518-3348-408a-8651-890444c94a40\",\"type\":\"CategoricalTickFormatter\"},{\"attributes\":{\"bottom_units\":\"screen\",\"fill_alpha\":{\"value\":0.5},\"fill_color\":{\"value\":\"lightgrey\"},\"left_units\":\"screen\",\"level\":\"overlay\",\"line_alpha\":{\"value\":1.0},\"line_color\":{\"value\":\"black\"},\"line_dash\":[4,4],\"line_width\":{\"value\":2},\"plot\":null,\"render_mode\":\"css\",\"right_units\":\"screen\",\"top_units\":\"screen\"},\"id\":\"2a2ef5e0-6a1b-4002-a222-8837714de330\",\"type\":\"BoxAnnotation\"},{\"attributes\":{\"callback\":null,\"column_names\":[\"x\",\"y\",\"width\",\"height\",\"color\",\"fill_alpha\",\"line_color\",\"line_alpha\",\"label\"],\"data\":{\"SP\":[\"SP01\"],\"chart_index\":[{\"SP\":\"SP01\"}],\"color\":[\"#01A1DD\"],\"fill_alpha\":[0.8],\"height\":[9.0],\"label\":[{\"SP\":\"SP01\"}],\"line_alpha\":[1.0],\"line_color\":[\"white\"],\"width\":[0.8],\"x\":[\"SP01\"],\"y\":[4.5]}},\"id\":\"8fe58e1b-058a-4e04-a819-4c0e2e4e7080\",\"type\":\"ColumnDataSource\"},{\"attributes\":{\"data_source\":{\"id\":\"a709869e-b1af-4979-8f3f-68ca36a8ff55\",\"type\":\"ColumnDataSource\"},\"glyph\":{\"id\":\"5f6fcdb6-8f40-4cbd-bc7b-8c5f238f9656\",\"type\":\"Rect\"},\"hover_glyph\":null,\"muted_glyph\":null},\"id\":\"728446a8-2b0c-4855-b5b2-a78904c82f61\",\"type\":\"GlyphRenderer\"},{\"attributes\":{\"fill_alpha\":{\"field\":\"fill_alpha\"},\"fill_color\":{\"field\":\"color\"},\"height\":{\"field\":\"height\",\"units\":\"data\"},\"line_color\":{\"field\":\"line_color\"},\"width\":{\"field\":\"width\",\"units\":\"data\"},\"x\":{\"field\":\"x\"},\"y\":{\"field\":\"y\"}},\"id\":\"74833611-ab29-429b-ac91-06530b3ed7a9\",\"type\":\"Rect\"},{\"attributes\":{\"fill_alpha\":{\"field\":\"fill_alpha\"},\"fill_color\":{\"field\":\"color\"},\"height\":{\"field\":\"height\",\"units\":\"data\"},\"line_color\":{\"field\":\"line_color\"},\"width\":{\"field\":\"width\",\"units\":\"data\"},\"x\":{\"field\":\"x\"},\"y\":{\"field\":\"y\"}},\"id\":\"8b30c550-1312-487c-b9ed-b66cfbfe0f34\",\"type\":\"Rect\"},{\"attributes\":{\"callback\":null,\"column_names\":[\"x\",\"y\",\"width\",\"height\",\"color\",\"fill_alpha\",\"line_color\",\"line_alpha\",\"label\"],\"data\":{\"SP\":[\"SP05\"],\"chart_index\":[{\"SP\":\"SP05\"}],\"color\":[\"#01A1DD\"],\"fill_alpha\":[0.8],\"height\":[313.0],\"label\":[{\"SP\":\"SP05\"}],\"line_alpha\":[1.0],\"line_color\":[\"white\"],\"width\":[0.8],\"x\":[\"SP05\"],\"y\":[156.5]}},\"id\":\"190b4b26-09be-4a0d-90bb-b08c7f52fbcc\",\"type\":\"ColumnDataSource\"},{\"attributes\":{\"plot\":{\"id\":\"51978897-52af-41b5-bfed-9a230b5d9341\",\"subtype\":\"Chart\",\"type\":\"Plot\"}},\"id\":\"0c29a2d1-56d5-40a3-b9a0-8fe07ce61228\",\"type\":\"PanTool\"},{\"attributes\":{\"plot\":{\"id\":\"51978897-52af-41b5-bfed-9a230b5d9341\",\"subtype\":\"Chart\",\"type\":\"Plot\"}},\"id\":\"d36d2e0d-e972-409d-b88d-31eea8d38b10\",\"type\":\"WheelZoomTool\"},{\"attributes\":{\"data_source\":{\"id\":\"190b4b26-09be-4a0d-90bb-b08c7f52fbcc\",\"type\":\"ColumnDataSource\"},\"glyph\":{\"id\":\"72ce3569-6819-469f-b957-ad8c7e9b665e\",\"type\":\"Rect\"},\"hover_glyph\":null,\"muted_glyph\":null},\"id\":\"01e26726-d512-42c0-828e-36decd638d66\",\"type\":\"GlyphRenderer\"},{\"attributes\":{\"overlay\":{\"id\":\"2a2ef5e0-6a1b-4002-a222-8837714de330\",\"type\":\"BoxAnnotation\"},\"plot\":{\"id\":\"51978897-52af-41b5-bfed-9a230b5d9341\",\"subtype\":\"Chart\",\"type\":\"Plot\"}},\"id\":\"f52acaeb-7e84-4d4c-a66b-1a8f027c460e\",\"type\":\"BoxZoomTool\"},{\"attributes\":{\"plot\":{\"id\":\"51978897-52af-41b5-bfed-9a230b5d9341\",\"subtype\":\"Chart\",\"type\":\"Plot\"}},\"id\":\"e269b353-7a1c-4e9e-bdc5-5fef3e23d865\",\"type\":\"SaveTool\"},{\"attributes\":{\"plot\":{\"id\":\"51978897-52af-41b5-bfed-9a230b5d9341\",\"subtype\":\"Chart\",\"type\":\"Plot\"}},\"id\":\"7fe6791c-23b4-4402-98f1-bf0c5579d47c\",\"type\":\"ResetTool\"},{\"attributes\":{\"fill_alpha\":{\"field\":\"fill_alpha\"},\"fill_color\":{\"field\":\"color\"},\"height\":{\"field\":\"height\",\"units\":\"data\"},\"line_color\":{\"field\":\"line_color\"},\"width\":{\"field\":\"width\",\"units\":\"data\"},\"x\":{\"field\":\"x\"},\"y\":{\"field\":\"y\"}},\"id\":\"99d1c6f5-add9-473b-a141-dbe00e945a5e\",\"type\":\"Rect\"},{\"attributes\":{\"plot\":{\"id\":\"51978897-52af-41b5-bfed-9a230b5d9341\",\"subtype\":\"Chart\",\"type\":\"Plot\"}},\"id\":\"8ea94512-1a0f-4c48-b5ff-1a7087a40516\",\"type\":\"HelpTool\"},{\"attributes\":{\"fill_alpha\":{\"field\":\"fill_alpha\"},\"fill_color\":{\"field\":\"color\"},\"height\":{\"field\":\"height\",\"units\":\"data\"},\"line_color\":{\"field\":\"line_color\"},\"width\":{\"field\":\"width\",\"units\":\"data\"},\"x\":{\"field\":\"x\"},\"y\":{\"field\":\"y\"}},\"id\":\"72ce3569-6819-469f-b957-ad8c7e9b665e\",\"type\":\"Rect\"},{\"attributes\":{\"data_source\":{\"id\":\"741888bd-42d2-4a3e-87d4-4b7af84c0b8b\",\"type\":\"ColumnDataSource\"},\"glyph\":{\"id\":\"8b30c550-1312-487c-b9ed-b66cfbfe0f34\",\"type\":\"Rect\"},\"hover_glyph\":null,\"muted_glyph\":null},\"id\":\"7298d364-16b8-4f63-82d5-3835db75a5c6\",\"type\":\"GlyphRenderer\"},{\"attributes\":{\"callback\":null,\"factors\":[\"SP01\",\"SP02\",\"SP03\",\"SP04\",\"SP05\",\"SP06\",\"SP07\",\"SP08\",\"SP09\",\"SP10\",\"SP11\",\"SP12\",\"SP13\",\"SP14\",\"SP15\",\"SP16\",\"SP17\",\"SP18\"]},\"id\":\"fe3dd067-5472-49c2-8441-14988d473966\",\"type\":\"FactorRange\"},{\"attributes\":{\"data_source\":{\"id\":\"7d05f6c7-1991-4a28-8b5d-d6f7535059b9\",\"type\":\"ColumnDataSource\"},\"glyph\":{\"id\":\"74833611-ab29-429b-ac91-06530b3ed7a9\",\"type\":\"Rect\"},\"hover_glyph\":null,\"muted_glyph\":null},\"id\":\"237c1547-a54c-4741-a287-dd8e7cdd45c2\",\"type\":\"GlyphRenderer\"},{\"attributes\":{\"callback\":null,\"column_names\":[\"x\",\"y\",\"width\",\"height\",\"color\",\"fill_alpha\",\"line_color\",\"line_alpha\",\"label\"],\"data\":{\"SP\":[\"SP11\"],\"chart_index\":[{\"SP\":\"SP11\"}],\"color\":[\"#01A1DD\"],\"fill_alpha\":[0.8],\"height\":[682.0],\"label\":[{\"SP\":\"SP11\"}],\"line_alpha\":[1.0],\"line_color\":[\"white\"],\"width\":[0.8],\"x\":[\"SP11\"],\"y\":[341.0]}},\"id\":\"16d3d0ec-2257-4d66-9c25-15c9b1fdf326\",\"type\":\"ColumnDataSource\"},{\"attributes\":{},\"id\":\"48c79cd9-8d6c-4b75-888a-4b7396202f62\",\"type\":\"BasicTickFormatter\"}],\"root_ids\":[\"51978897-52af-41b5-bfed-9a230b5d9341\"]},\"title\":\"Bokeh Application\",\"version\":\"0.12.5\"}};\n",
       "            var render_items = [{\"docid\":\"7b9475e9-920d-45d2-90ab-cf17f541d074\",\"elementid\":\"e62a9785-9e0a-4580-96c8-5384f6e7676c\",\"modelid\":\"51978897-52af-41b5-bfed-9a230b5d9341\"}];\n",
       "            \n",
       "            Bokeh.embed.embed_items(docs_json, render_items);\n",
       "          };\n",
       "          if (document.readyState != \"loading\") fn();\n",
       "          else document.addEventListener(\"DOMContentLoaded\", fn);\n",
       "        })();\n",
       "      },\n",
       "      function(Bokeh) {\n",
       "      }\n",
       "    ];\n",
       "  \n",
       "    function run_inline_js() {\n",
       "      \n",
       "      if ((window.Bokeh !== undefined) || (force === true)) {\n",
       "        for (var i = 0; i < inline_js.length; i++) {\n",
       "          inline_js[i](window.Bokeh);\n",
       "        }if (force === true) {\n",
       "          display_loaded();\n",
       "        }} else if (Date.now() < window._bokeh_timeout) {\n",
       "        setTimeout(run_inline_js, 100);\n",
       "      } else if (!window._bokeh_failed_load) {\n",
       "        console.log(\"Bokeh: BokehJS failed to load within specified timeout.\");\n",
       "        window._bokeh_failed_load = true;\n",
       "      } else if (force !== true) {\n",
       "        var cell = $(document.getElementById(\"e62a9785-9e0a-4580-96c8-5384f6e7676c\")).parents('.cell').data().cell;\n",
       "        cell.output_area.append_execute_result(NB_LOAD_WARNING)\n",
       "      }\n",
       "  \n",
       "    }\n",
       "  \n",
       "    if (window._bokeh_is_loading === 0) {\n",
       "      console.log(\"Bokeh: BokehJS loaded, going straight to plotting\");\n",
       "      run_inline_js();\n",
       "    } else {\n",
       "      load_libs(js_urls, function() {\n",
       "        console.log(\"Bokeh: BokehJS plotting callback run at\", now());\n",
       "        run_inline_js();\n",
       "      });\n",
       "    }\n",
       "  }(this));\n",
       "</script>"
      ]
     },
     "metadata": {},
     "output_type": "display_data"
    }
   ],
   "source": [
    "show(plot)"
   ]
  },
  {
   "cell_type": "markdown",
   "metadata": {
    "slideshow": {
     "slide_type": "slide"
    }
   },
   "source": [
    "## How it works?\n",
    "\n",
    "Jupyter is composed of three elements: \n",
    "- **The notebook web application**: An interactive web application for writing and running code interactively and authoring notebook documents.\n",
    "- **Kernels** Python is default but many [other kernels are availables](https://github.com/jupyter/jupyter/wiki/Jupyter-kernels). \n",
    "- ** The notebook document himself**. A simple files on the filesystem with a .ipynb extension.\n"
   ]
  },
  {
   "cell_type": "markdown",
   "metadata": {
    "slideshow": {
     "slide_type": "slide"
    }
   },
   "source": [
    "## Sources used for this presentation and to go further : \n",
    "- [Jupyter Notebook Tutorial: The Definitive Guide](https://www.datacamp.com/community/tutorials/tutorial-jupyter-notebook/)\n",
    "- [Jupyter Community Resources](https://jupyter.org/community.html)"
   ]
  }
 ],
 "metadata": {
  "kernelspec": {
   "display_name": "Python 3",
   "language": "python",
   "name": "python3"
  },
  "language_info": {
   "codemirror_mode": {
    "name": "ipython",
    "version": 3
   },
   "file_extension": ".py",
   "mimetype": "text/x-python",
   "name": "python",
   "nbconvert_exporter": "python",
   "pygments_lexer": "ipython3",
   "version": "3.6.0"
  }
 },
 "nbformat": 4,
 "nbformat_minor": 2
}

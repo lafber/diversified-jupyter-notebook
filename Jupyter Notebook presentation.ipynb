{
 "cells": [
  {
   "cell_type": "markdown",
   "metadata": {
    "slideshow": {
     "slide_type": "slide"
    }
   },
   "source": [
    "<img src=\"ressources/logo_svg.png\" />"
   ]
  },
  {
   "cell_type": "markdown",
   "metadata": {
    "slideshow": {
     "slide_type": "slide"
    }
   },
   "source": [
    "# What is Jupyter Notebook? \n",
    "\n",
    "The term notebook is used to denote a document which mix different types of elements like\n",
    "- code\n",
    "- interactive widgets\n",
    "- graphs\n",
    "- simple text\n",
    "- equations\n",
    "- images\n",
    "- video\n",
    "\n",
    "What make a Jupyter awesome and different is that it's an **interactive computing environment**. \n",
    "\n",
    "Which mean that part of **any code can be run lived and result displayed immediatly**.\n",
    "\n",
    "Each notebook provide a **complete and self-contained record of a computation**. You can replay it  share it and convert it to various formats. \n"
   ]
  },
  {
   "cell_type": "code",
   "execution_count": null,
   "metadata": {
    "slideshow": {
     "slide_type": "slide"
    }
   },
   "outputs": [],
   "source": [
    "# Lets code a bit in Python\n",
    "from IPython.display import YouTubeVideo\n",
    "YouTubeVideo('4A5tTwnQwKE')"
   ]
  },
  {
   "cell_type": "markdown",
   "metadata": {
    "slideshow": {
     "slide_type": "slide"
    }
   },
   "source": [
    "## Display a graph"
   ]
  },
  {
   "cell_type": "markdown",
   "metadata": {
    "slideshow": {
     "slide_type": "slide"
    }
   },
   "source": [
    "Let's upload some data from a csv file before. \n",
    "For example the number of notes in each SP of BW 7.40."
   ]
  },
  {
   "cell_type": "code",
   "execution_count": null,
   "metadata": {
    "slideshow": {
     "slide_type": "slide"
    }
   },
   "outputs": [],
   "source": [
    "from IPython.display import FileLink, FileLinks, display_pretty, display\n",
    "source_csv = FileLink(\"ressources/BW740SP.csv\")\n",
    "display(source_csv)"
   ]
  },
  {
   "cell_type": "code",
   "execution_count": null,
   "metadata": {},
   "outputs": [],
   "source": [
    "import csv # csv package \n",
    "\n",
    "# Import source csv file\n",
    "\n",
    "my_sp = []\n",
    "my_nb = []\n",
    "my_data = {} # dictionary for source data\n",
    "\n",
    "with open('ressources/BW740SP.csv','r') as source_file:\n",
    "    csv_file = csv.reader(source_file)\n",
    "    next(csv_file)\n",
    "    for row in csv_file:\n",
    "        my_sp.append('SP' + row[0])\n",
    "        my_nb.append(int(row[3]))\n",
    "        \n",
    "my_data['SP'] = my_sp\n",
    "my_data['nb'] = my_nb\n",
    "        \n",
    "print (my_data)"
   ]
  },
  {
   "cell_type": "code",
   "execution_count": null,
   "metadata": {},
   "outputs": [],
   "source": [
    "# loading Bokeh\n",
    "from bokeh.charts import Bar, output_notebook, show\n",
    "\n",
    "# output to notebook\n",
    "output_notebook() \n",
    "\n",
    "# prepare some data\n",
    "plot = Bar(my_data, label='SP', values='nb', color=\"#01A1DD\", \n",
    "           legend=False, title='Number of notes per SP')"
   ]
  },
  {
   "cell_type": "code",
   "execution_count": null,
   "metadata": {},
   "outputs": [],
   "source": [
    "show(plot)"
   ]
  },
  {
   "cell_type": "markdown",
   "metadata": {
    "slideshow": {
     "slide_type": "slide"
    }
   },
   "source": [
    "## How it works?\n",
    "\n",
    "Jupyter is composed of three elements: \n",
    "- **The notebook web application**: An interactive web application for writing and running code interactively and authoring notebook documents.\n",
    "- **Kernels** Python is default but many [other kernels are availables](https://github.com/jupyter/jupyter/wiki/Jupyter-kernels). \n",
    "- ** The notebook document himself**. A simple files on the filesystem with a .ipynb extension.\n"
   ]
  },
  {
   "cell_type": "markdown",
   "metadata": {
    "slideshow": {
     "slide_type": "slide"
    }
   },
   "source": [
    "## Sources used for this presentation and to go further : \n",
    "- [Jupyter Notebook Tutorial: The Definitive Guide](https://www.datacamp.com/community/tutorials/tutorial-jupyter-notebook/)\n",
    "- [Jupyter Community Resources](https://jupyter.org/community.html)"
   ]
  }
 ],
 "metadata": {
  "kernelspec": {
   "display_name": "Python 3",
   "language": "python",
   "name": "python3"
  },
  "language_info": {
   "codemirror_mode": {
    "name": "ipython",
    "version": 3
   },
   "file_extension": ".py",
   "mimetype": "text/x-python",
   "name": "python",
   "nbconvert_exporter": "python",
   "pygments_lexer": "ipython3",
   "version": "3.6.0"
  }
 },
 "nbformat": 4,
 "nbformat_minor": 2
}

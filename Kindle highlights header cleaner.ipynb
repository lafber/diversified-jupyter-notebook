{
 "cells": [
  {
   "cell_type": "markdown",
   "metadata": {},
   "source": [
    "# Notebook for cleaning the Kindle highlights header\n",
    "\n",
    "When you download your My clippings.txt file from your Kindle (see [save kindle highlights](http://blog.clippings.io/2015/11/15/how-to-save-kindle-highlights-in-personal-documents/)) ; each highlight is surrounded by \n",
    "\n",
    "    ==========\n",
    "    <the title of the book (the author)>\n",
    "    - Votre surlignement à lʼemplacement 549-550 | Ajouté le lundi 19 septembre 2016 23:02:14\n",
    "    \n",
    "    Robert C. Martin (Uncle Bob), Steven Pressfield, and Dale Carnegie come to mind as some of the most influential authors I’ve read.\n",
    "\n",
    "This notebook keep the =========== but remove the title, the author and the highlight emplacement and date. "
   ]
  },
  {
   "cell_type": "code",
   "execution_count": 46,
   "metadata": {
    "collapsed": true
   },
   "outputs": [],
   "source": [
    "import re\n",
    "import os"
   ]
  },
  {
   "cell_type": "markdown",
   "metadata": {},
   "source": [
    "## Loading the clipping / highlights file"
   ]
  },
  {
   "cell_type": "code",
   "execution_count": 49,
   "metadata": {
    "collapsed": true
   },
   "outputs": [],
   "source": [
    "# Load your clippings file. It is recommanded to put in a single file all the highlights of a single file.\n",
    "\n",
    "# [TODO] interactive prompt to get the files paths and names\n",
    "my_file_path = 'ressources/'\n",
    "my_file_source_name = 'highlights_examples.txt'\n",
    "my_file_target_name = 'highlights_examples_cleaned.txt'\n",
    "\n",
    "my_source_file_path = os.path.join(my_file_path, my_file_source_name)\n",
    "my_target_file_path = os.path.join(my_file_path, my_file_target_name)\n",
    "\n",
    "\n"
   ]
  },
  {
   "cell_type": "code",
   "execution_count": 53,
   "metadata": {
    "collapsed": false
   },
   "outputs": [],
   "source": [
    "# Create target file for cleaned highlights\n",
    "my_target_file = open(my_target_file_path, 'w')\n",
    "\n",
    "# Load the file from the emplacement\n",
    "with open(my_source_file_path, 'r') as my_file:\n",
    "    for line in my_file.readlines():\n",
    "        # clean / remove the line with the title and author\n",
    "        if not ( re.search(\"\\s\\(.*\\)$\",line) or \n",
    "        # clean / remove the line with the emplacement and date\n",
    "            re.search(\"^-.*\\|.*\\d{4}\\s\\d{2}:\\d{2}:\\d{2}$\", line)):\n",
    "            my_target_file.writelines(line)\n",
    "        \n",
    "\n",
    "my_target_file.close()\n",
    "#[TODO] output file source and target stats\n",
    "#[TODO] clean remaining blank lines"
   ]
  }
 ],
 "metadata": {
  "kernelspec": {
   "display_name": "Python 3",
   "language": "python",
   "name": "python3"
  },
  "language_info": {
   "codemirror_mode": {
    "name": "ipython",
    "version": 3
   },
   "file_extension": ".py",
   "mimetype": "text/x-python",
   "name": "python",
   "nbconvert_exporter": "python",
   "pygments_lexer": "ipython3",
   "version": "3.5.3"
  }
 },
 "nbformat": 4,
 "nbformat_minor": 0
}

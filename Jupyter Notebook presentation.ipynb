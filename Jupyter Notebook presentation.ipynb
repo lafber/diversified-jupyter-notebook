{
 "cells": [
  {
   "cell_type": "markdown",
   "metadata": {
    "slideshow": {
     "slide_type": "slide"
    }
   },
   "source": [
    "<img src=\"ressources/logo_svg.png\" />"
   ]
  },
  {
   "cell_type": "markdown",
   "metadata": {
    "slideshow": {
     "slide_type": "slide"
    }
   },
   "source": [
    "# What is Jupyter Notebook? \n",
    "\n",
    "The term notebook is used to denote a document which mix different types of elements like\n",
    "- code\n",
    "- interactive widgets\n",
    "- graphs\n",
    "- simple text\n",
    "- equations\n",
    "- images\n",
    "- video\n",
    "\n",
    "What make a Jupyter awesome and different is that it's an **interactive computing environment**. \n",
    "\n",
    "Which mean that part of **any code can be run lived and result displayed immediatly**.\n",
    "\n",
    "Each notebook provide a **complete and self-contained record of a computation**. You can replay it  share it and convert it to various formats. \n"
   ]
  },
  {
   "cell_type": "code",
   "execution_count": 1,
   "metadata": {
    "slideshow": {
     "slide_type": "slide"
    }
   },
   "outputs": [
    {
     "data": {
      "image/jpeg": "[encoded data removed]",
      "text/html": [
       "\n",
       "        <iframe\n",
       "            width=\"400\"\n",
       "            height=\"300\"\n",
       "            src=\"https://www.youtube.com/embed/4A5tTwnQwKE\"\n",
       "            frameborder=\"0\"\n",
       "            allowfullscreen\n",
       "        ></iframe>\n",
       "        "
      ],
      "text/plain": [
       "<IPython.lib.display.YouTubeVideo at 0x2452996e668>"
      ]
     },
     "execution_count": 1,
     "metadata": {},
     "output_type": "execute_result"
    }
   ],
   "source": [
    "# Lets code a bit in Python\n",
    "from IPython.display import YouTubeVideo\n",
    "YouTubeVideo('4A5tTwnQwKE')"
   ]
  },
  {
   "cell_type": "markdown",
   "metadata": {
    "slideshow": {
     "slide_type": "slide"
    }
   },
   "source": [
    "## Display a graph"
   ]
  },
  {
   "cell_type": "markdown",
   "metadata": {
    "slideshow": {
     "slide_type": "slide"
    }
   },
   "source": [
    "Let's upload some data from a csv file before. \n",
    "For example the number of notes in each SP of BW 7.40."
   ]
  },
  {
   "cell_type": "code",
   "execution_count": 2,
   "metadata": {
    "slideshow": {
     "slide_type": "slide"
    }
   },
   "outputs": [
    {
     "data": {
      "text/html": [
       "<a href='ressources/BW740SP.csv' target='_blank'>ressources/BW740SP.csv</a><br>"
      ],
      "text/plain": [
       "C:\\Users\\lafoube\\Documents\\programming\\ressources\\BW740SP.csv"
      ]
     },
     "metadata": {},
     "output_type": "display_data"
    }
   ],
   "source": [
    "from IPython.display import FileLink, FileLinks, display_pretty, display\n",
    "source_csv = FileLink(\"ressources/BW740SP.csv\")\n",
    "display(source_csv)"
   ]
  },
  {
   "cell_type": "code",
   "execution_count": 3,
   "metadata": {},
   "outputs": [
    {
     "name": "stdout",
     "output_type": "stream",
     "text": [
      "{'SP': ['SP18', 'SP17', 'SP16', 'SP15', 'SP14', 'SP13', 'SP12', 'SP11', 'SP10', 'SP09', 'SP08', 'SP07', 'SP06', 'SP05', 'SP04', 'SP03', 'SP02', 'SP01'], 'nb': [307, 868, 995, 748, 872, 660, 632, 682, 775, 695, 457, 729, 656, 313, 365, 451, 299, 9]}\n"
     ]
    }
   ],
   "source": [
    "import csv # csv package \n",
    "\n",
    "# Import source csv file\n",
    "\n",
    "my_sp = []\n",
    "my_nb = []\n",
    "my_data = {} # dictionary for source data\n",
    "\n",
    "with open('ressources/BW740SP.csv','r') as source_file:\n",
    "    csv_file = csv.reader(source_file)\n",
    "    next(csv_file)\n",
    "    for row in csv_file:\n",
    "        my_sp.append('SP' + row[0])\n",
    "        my_nb.append(int(row[3]))\n",
    "        \n",
    "my_data['SP'] = my_sp\n",
    "my_data['nb'] = my_nb\n",
    "        \n",
    "print (my_data)"
   ]
  },
  {
   "cell_type": "code",
   "execution_count": 4,
   "metadata": {},
   "outputs": [
    {
     "data": {
      "text/html": [
       "\n",
       "    <div class=\"bk-root\">\n",
       "        <a href=\"http://bokeh.pydata.org\" target=\"_blank\" class=\"bk-logo bk-logo-small bk-logo-notebook\"></a>\n",
       "        <span id=\"3dea444c-6cd5-4727-9359-75eba26713ae\">Loading BokehJS ...</span>\n",
       "    </div>"
      ]
     },
     "metadata": {},
     "output_type": "display_data"
    },
    {
     "data": {
      "application/javascript": [
       "\n",
       "(function(global) {\n",
       "  function now() {\n",
       "    return new Date();\n",
       "  }\n",
       "\n",
       "  var force = true;\n",
       "\n",
       "  if (typeof (window._bokeh_onload_callbacks) === \"undefined\" || force === true) {\n",
       "    window._bokeh_onload_callbacks = [];\n",
       "    window._bokeh_is_loading = undefined;\n",
       "  }\n",
       "\n",
       "\n",
       "  \n",
       "  if (typeof (window._bokeh_timeout) === \"undefined\" || force === true) {\n",
       "    window._bokeh_timeout = Date.now() + 5000;\n",
       "    window._bokeh_failed_load = false;\n",
       "  }\n",
       "\n",
       "  var NB_LOAD_WARNING = {'data': {'text/html':\n",
       "     \"<div style='background-color: #fdd'>\\n\"+\n",
       "     \"<p>\\n\"+\n",
       "     \"BokehJS does not appear to have successfully loaded. If loading BokehJS from CDN, this \\n\"+\n",
       "     \"may be due to a slow or bad network connection. Possible fixes:\\n\"+\n",
       "     \"</p>\\n\"+\n",
       "     \"<ul>\\n\"+\n",
       "     \"<li>re-rerun `output_notebook()` to attempt to load from CDN again, or</li>\\n\"+\n",
       "     \"<li>use INLINE resources instead, as so:</li>\\n\"+\n",
       "     \"</ul>\\n\"+\n",
       "     \"<code>\\n\"+\n",
       "     \"from bokeh.resources import INLINE\\n\"+\n",
       "     \"output_notebook(resources=INLINE)\\n\"+\n",
       "     \"</code>\\n\"+\n",
       "     \"</div>\"}};\n",
       "\n",
       "  function display_loaded() {\n",
       "    if (window.Bokeh !== undefined) {\n",
       "      var el = document.getElementById(\"3dea444c-6cd5-4727-9359-75eba26713ae\");\n",
       "      el.textContent = \"BokehJS \" + Bokeh.version + \" successfully loaded.\";\n",
       "    } else if (Date.now() < window._bokeh_timeout) {\n",
       "      setTimeout(display_loaded, 100)\n",
       "    }\n",
       "  }\n",
       "\n",
       "  function run_callbacks() {\n",
       "    window._bokeh_onload_callbacks.forEach(function(callback) { callback() });\n",
       "    delete window._bokeh_onload_callbacks\n",
       "    console.info(\"Bokeh: all callbacks have finished\");\n",
       "  }\n",
       "\n",
       "  function load_libs(js_urls, callback) {\n",
       "    window._bokeh_onload_callbacks.push(callback);\n",
       "    if (window._bokeh_is_loading > 0) {\n",
       "      console.log(\"Bokeh: BokehJS is being loaded, scheduling callback at\", now());\n",
       "      return null;\n",
       "    }\n",
       "    if (js_urls == null || js_urls.length === 0) {\n",
       "      run_callbacks();\n",
       "      return null;\n",
       "    }\n",
       "    console.log(\"Bokeh: BokehJS not loaded, scheduling load and callback at\", now());\n",
       "    window._bokeh_is_loading = js_urls.length;\n",
       "    for (var i = 0; i < js_urls.length; i++) {\n",
       "      var url = js_urls[i];\n",
       "      var s = document.createElement('script');\n",
       "      s.src = url;\n",
       "      s.async = false;\n",
       "      s.onreadystatechange = s.onload = function() {\n",
       "        window._bokeh_is_loading--;\n",
       "        if (window._bokeh_is_loading === 0) {\n",
       "          console.log(\"Bokeh: all BokehJS libraries loaded\");\n",
       "          run_callbacks()\n",
       "        }\n",
       "      };\n",
       "      s.onerror = function() {\n",
       "        console.warn(\"failed to load library \" + url);\n",
       "      };\n",
       "      console.log(\"Bokeh: injecting script tag for BokehJS library: \", url);\n",
       "      document.getElementsByTagName(\"head\")[0].appendChild(s);\n",
       "    }\n",
       "  };var element = document.getElementById(\"3dea444c-6cd5-4727-9359-75eba26713ae\");\n",
       "  if (element == null) {\n",
       "    console.log(\"Bokeh: ERROR: autoload.js configured with elementid '3dea444c-6cd5-4727-9359-75eba26713ae' but no matching script tag was found. \")\n",
       "    return false;\n",
       "  }\n",
       "\n",
       "  var js_urls = [\"https://cdn.pydata.org/bokeh/release/bokeh-0.12.5.min.js\", \"https://cdn.pydata.org/bokeh/release/bokeh-widgets-0.12.5.min.js\"];\n",
       "\n",
       "  var inline_js = [\n",
       "    function(Bokeh) {\n",
       "      Bokeh.set_log_level(\"info\");\n",
       "    },\n",
       "    \n",
       "    function(Bokeh) {\n",
       "      \n",
       "    },\n",
       "    \n",
       "    function(Bokeh) {\n",
       "      \n",
       "      document.getElementById(\"3dea444c-6cd5-4727-9359-75eba26713ae\").textContent = \"BokehJS is loading...\";\n",
       "    },\n",
       "    function(Bokeh) {\n",
       "      console.log(\"Bokeh: injecting CSS: https://cdn.pydata.org/bokeh/release/bokeh-0.12.5.min.css\");\n",
       "      Bokeh.embed.inject_css(\"https://cdn.pydata.org/bokeh/release/bokeh-0.12.5.min.css\");\n",
       "      console.log(\"Bokeh: injecting CSS: https://cdn.pydata.org/bokeh/release/bokeh-widgets-0.12.5.min.css\");\n",
       "      Bokeh.embed.inject_css(\"https://cdn.pydata.org/bokeh/release/bokeh-widgets-0.12.5.min.css\");\n",
       "    }\n",
       "  ];\n",
       "\n",
       "  function run_inline_js() {\n",
       "    \n",
       "    if ((window.Bokeh !== undefined) || (force === true)) {\n",
       "      for (var i = 0; i < inline_js.length; i++) {\n",
       "        inline_js[i](window.Bokeh);\n",
       "      }if (force === true) {\n",
       "        display_loaded();\n",
       "      }} else if (Date.now() < window._bokeh_timeout) {\n",
       "      setTimeout(run_inline_js, 100);\n",
       "    } else if (!window._bokeh_failed_load) {\n",
       "      console.log(\"Bokeh: BokehJS failed to load within specified timeout.\");\n",
       "      window._bokeh_failed_load = true;\n",
       "    } else if (force !== true) {\n",
       "      var cell = $(document.getElementById(\"3dea444c-6cd5-4727-9359-75eba26713ae\")).parents('.cell').data().cell;\n",
       "      cell.output_area.append_execute_result(NB_LOAD_WARNING)\n",
       "    }\n",
       "\n",
       "  }\n",
       "\n",
       "  if (window._bokeh_is_loading === 0) {\n",
       "    console.log(\"Bokeh: BokehJS loaded, going straight to plotting\");\n",
       "    run_inline_js();\n",
       "  } else {\n",
       "    load_libs(js_urls, function() {\n",
       "      console.log(\"Bokeh: BokehJS plotting callback run at\", now());\n",
       "      run_inline_js();\n",
       "    });\n",
       "  }\n",
       "}(this));"
      ]
     },
     "metadata": {},
     "output_type": "display_data"
    }
   ],
   "source": [
    "# loading Bokeh\n",
    "from bokeh.charts import Bar, output_notebook, show\n",
    "\n",
    "# output to notebook\n",
    "output_notebook() \n",
    "\n",
    "# prepare some data\n",
    "plot = Bar(my_data, label='SP', values='nb', color=\"#01A1DD\", legend=False, title='Number of notes per SP')"
   ]
  },
  {
   "cell_type": "code",
   "execution_count": 5,
   "metadata": {},
   "outputs": [
    {
     "data": {
      "text/html": [
       "\n",
       "\n",
       "    <div class=\"bk-root\">\n",
       "        <div class=\"bk-plotdiv\" id=\"09f50e03-e54d-47c7-a924-1ca825fe3f07\"></div>\n",
       "    </div>\n",
       "<script type=\"text/javascript\">\n",
       "  \n",
       "  (function(global) {\n",
       "    function now() {\n",
       "      return new Date();\n",
       "    }\n",
       "  \n",
       "    var force = false;\n",
       "  \n",
       "    if (typeof (window._bokeh_onload_callbacks) === \"undefined\" || force === true) {\n",
       "      window._bokeh_onload_callbacks = [];\n",
       "      window._bokeh_is_loading = undefined;\n",
       "    }\n",
       "  \n",
       "  \n",
       "    \n",
       "    if (typeof (window._bokeh_timeout) === \"undefined\" || force === true) {\n",
       "      window._bokeh_timeout = Date.now() + 0;\n",
       "      window._bokeh_failed_load = false;\n",
       "    }\n",
       "  \n",
       "    var NB_LOAD_WARNING = {'data': {'text/html':\n",
       "       \"<div style='background-color: #fdd'>\\n\"+\n",
       "       \"<p>\\n\"+\n",
       "       \"BokehJS does not appear to have successfully loaded. If loading BokehJS from CDN, this \\n\"+\n",
       "       \"may be due to a slow or bad network connection. Possible fixes:\\n\"+\n",
       "       \"</p>\\n\"+\n",
       "       \"<ul>\\n\"+\n",
       "       \"<li>re-rerun `output_notebook()` to attempt to load from CDN again, or</li>\\n\"+\n",
       "       \"<li>use INLINE resources instead, as so:</li>\\n\"+\n",
       "       \"</ul>\\n\"+\n",
       "       \"<code>\\n\"+\n",
       "       \"from bokeh.resources import INLINE\\n\"+\n",
       "       \"output_notebook(resources=INLINE)\\n\"+\n",
       "       \"</code>\\n\"+\n",
       "       \"</div>\"}};\n",
       "  \n",
       "    function display_loaded() {\n",
       "      if (window.Bokeh !== undefined) {\n",
       "        var el = document.getElementById(\"09f50e03-e54d-47c7-a924-1ca825fe3f07\");\n",
       "        el.textContent = \"BokehJS \" + Bokeh.version + \" successfully loaded.\";\n",
       "      } else if (Date.now() < window._bokeh_timeout) {\n",
       "        setTimeout(display_loaded, 100)\n",
       "      }\n",
       "    }\n",
       "  \n",
       "    function run_callbacks() {\n",
       "      window._bokeh_onload_callbacks.forEach(function(callback) { callback() });\n",
       "      delete window._bokeh_onload_callbacks\n",
       "      console.info(\"Bokeh: all callbacks have finished\");\n",
       "    }\n",
       "  \n",
       "    function load_libs(js_urls, callback) {\n",
       "      window._bokeh_onload_callbacks.push(callback);\n",
       "      if (window._bokeh_is_loading > 0) {\n",
       "        console.log(\"Bokeh: BokehJS is being loaded, scheduling callback at\", now());\n",
       "        return null;\n",
       "      }\n",
       "      if (js_urls == null || js_urls.length === 0) {\n",
       "        run_callbacks();\n",
       "        return null;\n",
       "      }\n",
       "      console.log(\"Bokeh: BokehJS not loaded, scheduling load and callback at\", now());\n",
       "      window._bokeh_is_loading = js_urls.length;\n",
       "      for (var i = 0; i < js_urls.length; i++) {\n",
       "        var url = js_urls[i];\n",
       "        var s = document.createElement('script');\n",
       "        s.src = url;\n",
       "        s.async = false;\n",
       "        s.onreadystatechange = s.onload = function() {\n",
       "          window._bokeh_is_loading--;\n",
       "          if (window._bokeh_is_loading === 0) {\n",
       "            console.log(\"Bokeh: all BokehJS libraries loaded\");\n",
       "            run_callbacks()\n",
       "          }\n",
       "        };\n",
       "        s.onerror = function() {\n",
       "          console.warn(\"failed to load library \" + url);\n",
       "        };\n",
       "        console.log(\"Bokeh: injecting script tag for BokehJS library: \", url);\n",
       "        document.getElementsByTagName(\"head\")[0].appendChild(s);\n",
       "      }\n",
       "    };var element = document.getElementById(\"09f50e03-e54d-47c7-a924-1ca825fe3f07\");\n",
       "    if (element == null) {\n",
       "      console.log(\"Bokeh: ERROR: autoload.js configured with elementid '09f50e03-e54d-47c7-a924-1ca825fe3f07' but no matching script tag was found. \")\n",
       "      return false;\n",
       "    }\n",
       "  \n",
       "    var js_urls = [];\n",
       "  \n",
       "    var inline_js = [\n",
       "      function(Bokeh) {\n",
       "        (function() {\n",
       "          var fn = function() {\n",
       "            var docs_json = {\"d4124337-916e-4163-8d39-33f719a2dadc\":{\"roots\":{\"references\":[{\"attributes\":{\"below\":[{\"id\":\"5410ae18-46c4-400b-b534-042152f412d8\",\"type\":\"CategoricalAxis\"}],\"css_classes\":null,\"left\":[{\"id\":\"e56c6c3e-7341-4283-a351-5f224f3b102a\",\"type\":\"LinearAxis\"}],\"renderers\":[{\"id\":\"d5d55d58-f21a-4008-88b4-8b6d52e7faa8\",\"type\":\"BoxAnnotation\"},{\"id\":\"ad199d79-846f-4e5e-9d0c-2a1421e254f5\",\"type\":\"GlyphRenderer\"},{\"id\":\"836677d4-a93d-404f-9ed6-6721802c4d43\",\"type\":\"GlyphRenderer\"},{\"id\":\"92071d19-74cc-466a-a75a-f9c02bdf4911\",\"type\":\"GlyphRenderer\"},{\"id\":\"645bdac4-3d5d-4ee5-b633-22e1ab5793ab\",\"type\":\"GlyphRenderer\"},{\"id\":\"434d3318-62c7-474c-81b3-d80b4f881a9d\",\"type\":\"GlyphRenderer\"},{\"id\":\"5ccf7a9f-296b-4a1d-b470-ec22a2c53b27\",\"type\":\"GlyphRenderer\"},{\"id\":\"d021d8d0-c6b5-4532-8d8f-1331705d6b89\",\"type\":\"GlyphRenderer\"},{\"id\":\"4a278622-8461-4a14-ae32-0919e8caafb5\",\"type\":\"GlyphRenderer\"},{\"id\":\"5e0f5717-42eb-49ca-a65b-d6e3ea7688c3\",\"type\":\"GlyphRenderer\"},{\"id\":\"7a990a1a-0cf7-4cfd-bf24-2d0db294e972\",\"type\":\"GlyphRenderer\"},{\"id\":\"b52e24a8-9a8e-4417-bbea-ea2cc2810590\",\"type\":\"GlyphRenderer\"},{\"id\":\"7b44f239-a7f2-4dbd-ace6-a59a71676520\",\"type\":\"GlyphRenderer\"},{\"id\":\"7c28f09d-1c6e-4da9-b5ef-14b2f53ae913\",\"type\":\"GlyphRenderer\"},{\"id\":\"61083c77-52c2-47e3-99c5-f404b58ac050\",\"type\":\"GlyphRenderer\"},{\"id\":\"4a981667-6edf-412a-9840-f70ef1d42ab5\",\"type\":\"GlyphRenderer\"},{\"id\":\"5a43f31d-bd4a-48da-99ad-96191cc4bd89\",\"type\":\"GlyphRenderer\"},{\"id\":\"ba5225f5-9684-4041-87b1-190494a108c8\",\"type\":\"GlyphRenderer\"},{\"id\":\"7dfa62fa-3ffe-4a42-b1a3-992c6c89b546\",\"type\":\"GlyphRenderer\"},{\"id\":\"5410ae18-46c4-400b-b534-042152f412d8\",\"type\":\"CategoricalAxis\"},{\"id\":\"e56c6c3e-7341-4283-a351-5f224f3b102a\",\"type\":\"LinearAxis\"},{\"id\":\"404cf2b2-d6dd-400c-b825-25110a18dffa\",\"type\":\"Grid\"}],\"title\":{\"id\":\"64375954-d61e-407c-a0fd-4cca9fbc9657\",\"type\":\"Title\"},\"tool_events\":{\"id\":\"5d9e5c80-06e3-4ae6-ab88-f7a11848f723\",\"type\":\"ToolEvents\"},\"toolbar\":{\"id\":\"5ac03634-90bf-45c5-9dbf-b0a4e84165e9\",\"type\":\"Toolbar\"},\"x_mapper_type\":\"auto\",\"x_range\":{\"id\":\"caf8ec42-e956-40b8-894c-cf9673ab5679\",\"type\":\"FactorRange\"},\"y_mapper_type\":\"auto\",\"y_range\":{\"id\":\"2c7efad6-aad8-45a3-9ded-96b1de11a277\",\"type\":\"Range1d\"}},\"id\":\"a54c5f84-eb33-4983-94a4-ad717c69d6bc\",\"subtype\":\"Chart\",\"type\":\"Plot\"},{\"attributes\":{\"fill_alpha\":{\"field\":\"fill_alpha\"},\"fill_color\":{\"field\":\"color\"},\"height\":{\"field\":\"height\",\"units\":\"data\"},\"line_color\":{\"field\":\"line_color\"},\"width\":{\"field\":\"width\",\"units\":\"data\"},\"x\":{\"field\":\"x\"},\"y\":{\"field\":\"y\"}},\"id\":\"b5d400e1-21f1-4b5d-8cdb-f4e6a995ffeb\",\"type\":\"Rect\"},{\"attributes\":{\"data_source\":{\"id\":\"8f30b89a-bb95-49d1-972a-62f441d6dbed\",\"type\":\"ColumnDataSource\"},\"glyph\":{\"id\":\"72a33b1d-0b5e-45ad-94b9-2206bdff8a6f\",\"type\":\"Rect\"},\"hover_glyph\":null,\"muted_glyph\":null},\"id\":\"ad199d79-846f-4e5e-9d0c-2a1421e254f5\",\"type\":\"GlyphRenderer\"},{\"attributes\":{},\"id\":\"5d9e5c80-06e3-4ae6-ab88-f7a11848f723\",\"type\":\"ToolEvents\"},{\"attributes\":{\"callback\":null,\"column_names\":[\"x\",\"y\",\"width\",\"height\",\"color\",\"fill_alpha\",\"line_color\",\"line_alpha\",\"label\"],\"data\":{\"SP\":[\"SP15\"],\"chart_index\":[{\"SP\":\"SP15\"}],\"color\":[\"#01A1DD\"],\"fill_alpha\":[0.8],\"height\":[748.0],\"label\":[{\"SP\":\"SP15\"}],\"line_alpha\":[1.0],\"line_color\":[\"white\"],\"width\":[0.8],\"x\":[\"SP15\"],\"y\":[374.0]}},\"id\":\"b19f4b40-d489-4c6f-9848-511959f404f8\",\"type\":\"ColumnDataSource\"},{\"attributes\":{},\"id\":\"33f4c545-b4a9-44e5-81cb-65ea0d1a1723\",\"type\":\"BasicTicker\"},{\"attributes\":{\"data_source\":{\"id\":\"31f58780-691a-4868-a595-a22bbe8384b0\",\"type\":\"ColumnDataSource\"},\"glyph\":{\"id\":\"e67993f2-416e-4ff5-9d66-5da609ceb16b\",\"type\":\"Rect\"},\"hover_glyph\":null,\"muted_glyph\":null},\"id\":\"ba5225f5-9684-4041-87b1-190494a108c8\",\"type\":\"GlyphRenderer\"},{\"attributes\":{\"dimension\":1,\"plot\":{\"id\":\"a54c5f84-eb33-4983-94a4-ad717c69d6bc\",\"subtype\":\"Chart\",\"type\":\"Plot\"},\"ticker\":{\"id\":\"33f4c545-b4a9-44e5-81cb-65ea0d1a1723\",\"type\":\"BasicTicker\"}},\"id\":\"404cf2b2-d6dd-400c-b825-25110a18dffa\",\"type\":\"Grid\"},{\"attributes\":{\"axis_label\":\"Sum( Nb )\",\"formatter\":{\"id\":\"9985b7de-52d4-49c9-826b-f8aab4ca7488\",\"type\":\"BasicTickFormatter\"},\"plot\":{\"id\":\"a54c5f84-eb33-4983-94a4-ad717c69d6bc\",\"subtype\":\"Chart\",\"type\":\"Plot\"},\"ticker\":{\"id\":\"33f4c545-b4a9-44e5-81cb-65ea0d1a1723\",\"type\":\"BasicTicker\"}},\"id\":\"e56c6c3e-7341-4283-a351-5f224f3b102a\",\"type\":\"LinearAxis\"},{\"attributes\":{\"callback\":null,\"column_names\":[\"x\",\"y\",\"width\",\"height\",\"color\",\"fill_alpha\",\"line_color\",\"line_alpha\",\"label\"],\"data\":{\"SP\":[\"SP16\"],\"chart_index\":[{\"SP\":\"SP16\"}],\"color\":[\"#01A1DD\"],\"fill_alpha\":[0.8],\"height\":[995.0],\"label\":[{\"SP\":\"SP16\"}],\"line_alpha\":[1.0],\"line_color\":[\"white\"],\"width\":[0.8],\"x\":[\"SP16\"],\"y\":[497.5]}},\"id\":\"371c8ffd-787d-4f40-9d6a-d3f8f7657123\",\"type\":\"ColumnDataSource\"},{\"attributes\":{\"callback\":null,\"column_names\":[\"x\",\"y\",\"width\",\"height\",\"color\",\"fill_alpha\",\"line_color\",\"line_alpha\",\"label\"],\"data\":{\"SP\":[\"SP07\"],\"chart_index\":[{\"SP\":\"SP07\"}],\"color\":[\"#01A1DD\"],\"fill_alpha\":[0.8],\"height\":[729.0],\"label\":[{\"SP\":\"SP07\"}],\"line_alpha\":[1.0],\"line_color\":[\"white\"],\"width\":[0.8],\"x\":[\"SP07\"],\"y\":[364.5]}},\"id\":\"938ded2b-379b-434a-a81a-584c91c391ff\",\"type\":\"ColumnDataSource\"},{\"attributes\":{\"callback\":null,\"column_names\":[\"x\",\"y\",\"width\",\"height\",\"color\",\"fill_alpha\",\"line_color\",\"line_alpha\",\"label\"],\"data\":{\"SP\":[\"SP14\"],\"chart_index\":[{\"SP\":\"SP14\"}],\"color\":[\"#01A1DD\"],\"fill_alpha\":[0.8],\"height\":[872.0],\"label\":[{\"SP\":\"SP14\"}],\"line_alpha\":[1.0],\"line_color\":[\"white\"],\"width\":[0.8],\"x\":[\"SP14\"],\"y\":[436.0]}},\"id\":\"a7a27daa-9be5-4904-a29a-41db9f02fe3a\",\"type\":\"ColumnDataSource\"},{\"attributes\":{\"callback\":null,\"column_names\":[\"x\",\"y\",\"width\",\"height\",\"color\",\"fill_alpha\",\"line_color\",\"line_alpha\",\"label\"],\"data\":{\"SP\":[\"SP13\"],\"chart_index\":[{\"SP\":\"SP13\"}],\"color\":[\"#01A1DD\"],\"fill_alpha\":[0.8],\"height\":[660.0],\"label\":[{\"SP\":\"SP13\"}],\"line_alpha\":[1.0],\"line_color\":[\"white\"],\"width\":[0.8],\"x\":[\"SP13\"],\"y\":[330.0]}},\"id\":\"7010616a-6557-4243-857d-e426e5a5bee3\",\"type\":\"ColumnDataSource\"},{\"attributes\":{\"active_drag\":\"auto\",\"active_scroll\":\"auto\",\"active_tap\":\"auto\",\"tools\":[{\"id\":\"67959793-dfd8-4119-945f-710aaa6d3ff7\",\"type\":\"PanTool\"},{\"id\":\"2415dec1-08b0-40e4-a215-79824ad8e9f6\",\"type\":\"WheelZoomTool\"},{\"id\":\"a6bff379-183c-4369-91d4-f8f028f45917\",\"type\":\"BoxZoomTool\"},{\"id\":\"a01644b1-bea3-4dec-b57f-8599cab44593\",\"type\":\"SaveTool\"},{\"id\":\"2befc5bc-9909-479c-bc73-7de4f0416905\",\"type\":\"ResetTool\"},{\"id\":\"273b3dbc-16a2-45b7-adaa-4ba67a8e4c1c\",\"type\":\"HelpTool\"}]},\"id\":\"5ac03634-90bf-45c5-9dbf-b0a4e84165e9\",\"type\":\"Toolbar\"},{\"attributes\":{\"callback\":null,\"column_names\":[\"x\",\"y\",\"width\",\"height\",\"color\",\"fill_alpha\",\"line_color\",\"line_alpha\",\"label\"],\"data\":{\"SP\":[\"SP12\"],\"chart_index\":[{\"SP\":\"SP12\"}],\"color\":[\"#01A1DD\"],\"fill_alpha\":[0.8],\"height\":[632.0],\"label\":[{\"SP\":\"SP12\"}],\"line_alpha\":[1.0],\"line_color\":[\"white\"],\"width\":[0.8],\"x\":[\"SP12\"],\"y\":[316.0]}},\"id\":\"366a9327-1831-4cb7-b9f8-f7037f2c0bf9\",\"type\":\"ColumnDataSource\"},{\"attributes\":{\"plot\":null,\"text\":\"Number of notes per SP\"},\"id\":\"64375954-d61e-407c-a0fd-4cca9fbc9657\",\"type\":\"Title\"},{\"attributes\":{\"data_source\":{\"id\":\"bd3682e2-fe9e-4d76-9ac6-38817d1965ec\",\"type\":\"ColumnDataSource\"},\"glyph\":{\"id\":\"26fa28c4-27a2-44c0-954b-e2625fa1e9ef\",\"type\":\"Rect\"},\"hover_glyph\":null,\"muted_glyph\":null},\"id\":\"836677d4-a93d-404f-9ed6-6721802c4d43\",\"type\":\"GlyphRenderer\"},{\"attributes\":{\"data_source\":{\"id\":\"371c8ffd-787d-4f40-9d6a-d3f8f7657123\",\"type\":\"ColumnDataSource\"},\"glyph\":{\"id\":\"1926ced2-7c02-417d-a52d-2847eeda3b5a\",\"type\":\"Rect\"},\"hover_glyph\":null,\"muted_glyph\":null},\"id\":\"92071d19-74cc-466a-a75a-f9c02bdf4911\",\"type\":\"GlyphRenderer\"},{\"attributes\":{\"data_source\":{\"id\":\"abdff9cc-e538-449d-b52f-0c2b2cead88a\",\"type\":\"ColumnDataSource\"},\"glyph\":{\"id\":\"61f11351-bae9-410f-a31a-73baa62d083e\",\"type\":\"Rect\"},\"hover_glyph\":null,\"muted_glyph\":null},\"id\":\"7dfa62fa-3ffe-4a42-b1a3-992c6c89b546\",\"type\":\"GlyphRenderer\"},{\"attributes\":{\"callback\":null,\"factors\":[\"SP01\",\"SP02\",\"SP03\",\"SP04\",\"SP05\",\"SP06\",\"SP07\",\"SP08\",\"SP09\",\"SP10\",\"SP11\",\"SP12\",\"SP13\",\"SP14\",\"SP15\",\"SP16\",\"SP17\",\"SP18\"]},\"id\":\"caf8ec42-e956-40b8-894c-cf9673ab5679\",\"type\":\"FactorRange\"},{\"attributes\":{\"axis_label\":\"Sp\",\"formatter\":{\"id\":\"4017d9c3-2c2a-45f1-92b7-48e37dd5f271\",\"type\":\"CategoricalTickFormatter\"},\"major_label_orientation\":0.7853981633974483,\"plot\":{\"id\":\"a54c5f84-eb33-4983-94a4-ad717c69d6bc\",\"subtype\":\"Chart\",\"type\":\"Plot\"},\"ticker\":{\"id\":\"72b5dc96-0d8a-483e-aebf-af257227351e\",\"type\":\"CategoricalTicker\"}},\"id\":\"5410ae18-46c4-400b-b534-042152f412d8\",\"type\":\"CategoricalAxis\"},{\"attributes\":{\"callback\":null,\"end\":1044.75},\"id\":\"2c7efad6-aad8-45a3-9ded-96b1de11a277\",\"type\":\"Range1d\"},{\"attributes\":{\"fill_alpha\":{\"field\":\"fill_alpha\"},\"fill_color\":{\"field\":\"color\"},\"height\":{\"field\":\"height\",\"units\":\"data\"},\"line_color\":{\"field\":\"line_color\"},\"width\":{\"field\":\"width\",\"units\":\"data\"},\"x\":{\"field\":\"x\"},\"y\":{\"field\":\"y\"}},\"id\":\"9c65e786-1398-4f5f-85a5-1471097b4ab4\",\"type\":\"Rect\"},{\"attributes\":{\"fill_alpha\":{\"field\":\"fill_alpha\"},\"fill_color\":{\"field\":\"color\"},\"height\":{\"field\":\"height\",\"units\":\"data\"},\"line_color\":{\"field\":\"line_color\"},\"width\":{\"field\":\"width\",\"units\":\"data\"},\"x\":{\"field\":\"x\"},\"y\":{\"field\":\"y\"}},\"id\":\"1926ced2-7c02-417d-a52d-2847eeda3b5a\",\"type\":\"Rect\"},{\"attributes\":{\"fill_alpha\":{\"field\":\"fill_alpha\"},\"fill_color\":{\"field\":\"color\"},\"height\":{\"field\":\"height\",\"units\":\"data\"},\"line_color\":{\"field\":\"line_color\"},\"width\":{\"field\":\"width\",\"units\":\"data\"},\"x\":{\"field\":\"x\"},\"y\":{\"field\":\"y\"}},\"id\":\"61f11351-bae9-410f-a31a-73baa62d083e\",\"type\":\"Rect\"},{\"attributes\":{},\"id\":\"4017d9c3-2c2a-45f1-92b7-48e37dd5f271\",\"type\":\"CategoricalTickFormatter\"},{\"attributes\":{\"data_source\":{\"id\":\"366a9327-1831-4cb7-b9f8-f7037f2c0bf9\",\"type\":\"ColumnDataSource\"},\"glyph\":{\"id\":\"b5d400e1-21f1-4b5d-8cdb-f4e6a995ffeb\",\"type\":\"Rect\"},\"hover_glyph\":null,\"muted_glyph\":null},\"id\":\"d021d8d0-c6b5-4532-8d8f-1331705d6b89\",\"type\":\"GlyphRenderer\"},{\"attributes\":{\"data_source\":{\"id\":\"b19f4b40-d489-4c6f-9848-511959f404f8\",\"type\":\"ColumnDataSource\"},\"glyph\":{\"id\":\"9c65e786-1398-4f5f-85a5-1471097b4ab4\",\"type\":\"Rect\"},\"hover_glyph\":null,\"muted_glyph\":null},\"id\":\"645bdac4-3d5d-4ee5-b633-22e1ab5793ab\",\"type\":\"GlyphRenderer\"},{\"attributes\":{\"fill_alpha\":{\"field\":\"fill_alpha\"},\"fill_color\":{\"field\":\"color\"},\"height\":{\"field\":\"height\",\"units\":\"data\"},\"line_color\":{\"field\":\"line_color\"},\"width\":{\"field\":\"width\",\"units\":\"data\"},\"x\":{\"field\":\"x\"},\"y\":{\"field\":\"y\"}},\"id\":\"866bfff2-954c-4ff6-91d0-045def04bda6\",\"type\":\"Rect\"},{\"attributes\":{\"bottom_units\":\"screen\",\"fill_alpha\":{\"value\":0.5},\"fill_color\":{\"value\":\"lightgrey\"},\"left_units\":\"screen\",\"level\":\"overlay\",\"line_alpha\":{\"value\":1.0},\"line_color\":{\"value\":\"black\"},\"line_dash\":[4,4],\"line_width\":{\"value\":2},\"plot\":null,\"render_mode\":\"css\",\"right_units\":\"screen\",\"top_units\":\"screen\"},\"id\":\"d5d55d58-f21a-4008-88b4-8b6d52e7faa8\",\"type\":\"BoxAnnotation\"},{\"attributes\":{\"data_source\":{\"id\":\"a7a27daa-9be5-4904-a29a-41db9f02fe3a\",\"type\":\"ColumnDataSource\"},\"glyph\":{\"id\":\"866bfff2-954c-4ff6-91d0-045def04bda6\",\"type\":\"Rect\"},\"hover_glyph\":null,\"muted_glyph\":null},\"id\":\"434d3318-62c7-474c-81b3-d80b4f881a9d\",\"type\":\"GlyphRenderer\"},{\"attributes\":{\"callback\":null,\"column_names\":[\"x\",\"y\",\"width\",\"height\",\"color\",\"fill_alpha\",\"line_color\",\"line_alpha\",\"label\"],\"data\":{\"SP\":[\"SP10\"],\"chart_index\":[{\"SP\":\"SP10\"}],\"color\":[\"#01A1DD\"],\"fill_alpha\":[0.8],\"height\":[775.0],\"label\":[{\"SP\":\"SP10\"}],\"line_alpha\":[1.0],\"line_color\":[\"white\"],\"width\":[0.8],\"x\":[\"SP10\"],\"y\":[387.5]}},\"id\":\"bcf71bc1-a487-4b08-b307-1a56daa6739a\",\"type\":\"ColumnDataSource\"},{\"attributes\":{\"plot\":{\"id\":\"a54c5f84-eb33-4983-94a4-ad717c69d6bc\",\"subtype\":\"Chart\",\"type\":\"Plot\"}},\"id\":\"67959793-dfd8-4119-945f-710aaa6d3ff7\",\"type\":\"PanTool\"},{\"attributes\":{\"fill_alpha\":{\"field\":\"fill_alpha\"},\"fill_color\":{\"field\":\"color\"},\"height\":{\"field\":\"height\",\"units\":\"data\"},\"line_color\":{\"field\":\"line_color\"},\"width\":{\"field\":\"width\",\"units\":\"data\"},\"x\":{\"field\":\"x\"},\"y\":{\"field\":\"y\"}},\"id\":\"e8a81278-9006-44fb-adec-673ba8f0dbdf\",\"type\":\"Rect\"},{\"attributes\":{\"plot\":{\"id\":\"a54c5f84-eb33-4983-94a4-ad717c69d6bc\",\"subtype\":\"Chart\",\"type\":\"Plot\"}},\"id\":\"2415dec1-08b0-40e4-a215-79824ad8e9f6\",\"type\":\"WheelZoomTool\"},{\"attributes\":{\"overlay\":{\"id\":\"d5d55d58-f21a-4008-88b4-8b6d52e7faa8\",\"type\":\"BoxAnnotation\"},\"plot\":{\"id\":\"a54c5f84-eb33-4983-94a4-ad717c69d6bc\",\"subtype\":\"Chart\",\"type\":\"Plot\"}},\"id\":\"a6bff379-183c-4369-91d4-f8f028f45917\",\"type\":\"BoxZoomTool\"},{\"attributes\":{\"plot\":{\"id\":\"a54c5f84-eb33-4983-94a4-ad717c69d6bc\",\"subtype\":\"Chart\",\"type\":\"Plot\"}},\"id\":\"a01644b1-bea3-4dec-b57f-8599cab44593\",\"type\":\"SaveTool\"},{\"attributes\":{\"plot\":{\"id\":\"a54c5f84-eb33-4983-94a4-ad717c69d6bc\",\"subtype\":\"Chart\",\"type\":\"Plot\"}},\"id\":\"2befc5bc-9909-479c-bc73-7de4f0416905\",\"type\":\"ResetTool\"},{\"attributes\":{\"plot\":{\"id\":\"a54c5f84-eb33-4983-94a4-ad717c69d6bc\",\"subtype\":\"Chart\",\"type\":\"Plot\"}},\"id\":\"273b3dbc-16a2-45b7-adaa-4ba67a8e4c1c\",\"type\":\"HelpTool\"},{\"attributes\":{\"data_source\":{\"id\":\"7010616a-6557-4243-857d-e426e5a5bee3\",\"type\":\"ColumnDataSource\"},\"glyph\":{\"id\":\"e8a81278-9006-44fb-adec-673ba8f0dbdf\",\"type\":\"Rect\"},\"hover_glyph\":null,\"muted_glyph\":null},\"id\":\"5ccf7a9f-296b-4a1d-b470-ec22a2c53b27\",\"type\":\"GlyphRenderer\"},{\"attributes\":{\"data_source\":{\"id\":\"bcf71bc1-a487-4b08-b307-1a56daa6739a\",\"type\":\"ColumnDataSource\"},\"glyph\":{\"id\":\"45b7cf56-bf35-4425-85a8-196b466b55f1\",\"type\":\"Rect\"},\"hover_glyph\":null,\"muted_glyph\":null},\"id\":\"5e0f5717-42eb-49ca-a65b-d6e3ea7688c3\",\"type\":\"GlyphRenderer\"},{\"attributes\":{\"callback\":null,\"column_names\":[\"x\",\"y\",\"width\",\"height\",\"color\",\"fill_alpha\",\"line_color\",\"line_alpha\",\"label\"],\"data\":{\"SP\":[\"SP11\"],\"chart_index\":[{\"SP\":\"SP11\"}],\"color\":[\"#01A1DD\"],\"fill_alpha\":[0.8],\"height\":[682.0],\"label\":[{\"SP\":\"SP11\"}],\"line_alpha\":[1.0],\"line_color\":[\"white\"],\"width\":[0.8],\"x\":[\"SP11\"],\"y\":[341.0]}},\"id\":\"349562db-c66d-45bd-ab1b-d5591d66de63\",\"type\":\"ColumnDataSource\"},{\"attributes\":{\"fill_alpha\":{\"field\":\"fill_alpha\"},\"fill_color\":{\"field\":\"color\"},\"height\":{\"field\":\"height\",\"units\":\"data\"},\"line_color\":{\"field\":\"line_color\"},\"width\":{\"field\":\"width\",\"units\":\"data\"},\"x\":{\"field\":\"x\"},\"y\":{\"field\":\"y\"}},\"id\":\"26fa28c4-27a2-44c0-954b-e2625fa1e9ef\",\"type\":\"Rect\"},{\"attributes\":{\"callback\":null,\"column_names\":[\"x\",\"y\",\"width\",\"height\",\"color\",\"fill_alpha\",\"line_color\",\"line_alpha\",\"label\"],\"data\":{\"SP\":[\"SP01\"],\"chart_index\":[{\"SP\":\"SP01\"}],\"color\":[\"#01A1DD\"],\"fill_alpha\":[0.8],\"height\":[9.0],\"label\":[{\"SP\":\"SP01\"}],\"line_alpha\":[1.0],\"line_color\":[\"white\"],\"width\":[0.8],\"x\":[\"SP01\"],\"y\":[4.5]}},\"id\":\"abdff9cc-e538-449d-b52f-0c2b2cead88a\",\"type\":\"ColumnDataSource\"},{\"attributes\":{},\"id\":\"9985b7de-52d4-49c9-826b-f8aab4ca7488\",\"type\":\"BasicTickFormatter\"},{\"attributes\":{\"data_source\":{\"id\":\"349562db-c66d-45bd-ab1b-d5591d66de63\",\"type\":\"ColumnDataSource\"},\"glyph\":{\"id\":\"37b2c72f-aeab-4446-a515-491e93ffff39\",\"type\":\"Rect\"},\"hover_glyph\":null,\"muted_glyph\":null},\"id\":\"4a278622-8461-4a14-ae32-0919e8caafb5\",\"type\":\"GlyphRenderer\"},{\"attributes\":{\"callback\":null,\"column_names\":[\"x\",\"y\",\"width\",\"height\",\"color\",\"fill_alpha\",\"line_color\",\"line_alpha\",\"label\"],\"data\":{\"SP\":[\"SP18\"],\"chart_index\":[{\"SP\":\"SP18\"}],\"color\":[\"#01A1DD\"],\"fill_alpha\":[0.8],\"height\":[307.0],\"label\":[{\"SP\":\"SP18\"}],\"line_alpha\":[1.0],\"line_color\":[\"white\"],\"width\":[0.8],\"x\":[\"SP18\"],\"y\":[153.5]}},\"id\":\"8f30b89a-bb95-49d1-972a-62f441d6dbed\",\"type\":\"ColumnDataSource\"},{\"attributes\":{\"callback\":null,\"column_names\":[\"x\",\"y\",\"width\",\"height\",\"color\",\"fill_alpha\",\"line_color\",\"line_alpha\",\"label\"],\"data\":{\"SP\":[\"SP17\"],\"chart_index\":[{\"SP\":\"SP17\"}],\"color\":[\"#01A1DD\"],\"fill_alpha\":[0.8],\"height\":[868.0],\"label\":[{\"SP\":\"SP17\"}],\"line_alpha\":[1.0],\"line_color\":[\"white\"],\"width\":[0.8],\"x\":[\"SP17\"],\"y\":[434.0]}},\"id\":\"bd3682e2-fe9e-4d76-9ac6-38817d1965ec\",\"type\":\"ColumnDataSource\"},{\"attributes\":{\"fill_alpha\":{\"field\":\"fill_alpha\"},\"fill_color\":{\"field\":\"color\"},\"height\":{\"field\":\"height\",\"units\":\"data\"},\"line_color\":{\"field\":\"line_color\"},\"width\":{\"field\":\"width\",\"units\":\"data\"},\"x\":{\"field\":\"x\"},\"y\":{\"field\":\"y\"}},\"id\":\"45b7cf56-bf35-4425-85a8-196b466b55f1\",\"type\":\"Rect\"},{\"attributes\":{\"fill_alpha\":{\"field\":\"fill_alpha\"},\"fill_color\":{\"field\":\"color\"},\"height\":{\"field\":\"height\",\"units\":\"data\"},\"line_color\":{\"field\":\"line_color\"},\"width\":{\"field\":\"width\",\"units\":\"data\"},\"x\":{\"field\":\"x\"},\"y\":{\"field\":\"y\"}},\"id\":\"72a33b1d-0b5e-45ad-94b9-2206bdff8a6f\",\"type\":\"Rect\"},{\"attributes\":{\"fill_alpha\":{\"field\":\"fill_alpha\"},\"fill_color\":{\"field\":\"color\"},\"height\":{\"field\":\"height\",\"units\":\"data\"},\"line_color\":{\"field\":\"line_color\"},\"width\":{\"field\":\"width\",\"units\":\"data\"},\"x\":{\"field\":\"x\"},\"y\":{\"field\":\"y\"}},\"id\":\"37b2c72f-aeab-4446-a515-491e93ffff39\",\"type\":\"Rect\"},{\"attributes\":{\"callback\":null,\"column_names\":[\"x\",\"y\",\"width\",\"height\",\"color\",\"fill_alpha\",\"line_color\",\"line_alpha\",\"label\"],\"data\":{\"SP\":[\"SP08\"],\"chart_index\":[{\"SP\":\"SP08\"}],\"color\":[\"#01A1DD\"],\"fill_alpha\":[0.8],\"height\":[457.0],\"label\":[{\"SP\":\"SP08\"}],\"line_alpha\":[1.0],\"line_color\":[\"white\"],\"width\":[0.8],\"x\":[\"SP08\"],\"y\":[228.5]}},\"id\":\"6f814679-700c-445f-94bc-3cc0930f2037\",\"type\":\"ColumnDataSource\"},{\"attributes\":{\"callback\":null,\"column_names\":[\"x\",\"y\",\"width\",\"height\",\"color\",\"fill_alpha\",\"line_color\",\"line_alpha\",\"label\"],\"data\":{\"SP\":[\"SP09\"],\"chart_index\":[{\"SP\":\"SP09\"}],\"color\":[\"#01A1DD\"],\"fill_alpha\":[0.8],\"height\":[695.0],\"label\":[{\"SP\":\"SP09\"}],\"line_alpha\":[1.0],\"line_color\":[\"white\"],\"width\":[0.8],\"x\":[\"SP09\"],\"y\":[347.5]}},\"id\":\"66c7e0af-4039-4e78-9f27-1f91005aaa50\",\"type\":\"ColumnDataSource\"},{\"attributes\":{\"fill_alpha\":{\"field\":\"fill_alpha\"},\"fill_color\":{\"field\":\"color\"},\"height\":{\"field\":\"height\",\"units\":\"data\"},\"line_color\":{\"field\":\"line_color\"},\"width\":{\"field\":\"width\",\"units\":\"data\"},\"x\":{\"field\":\"x\"},\"y\":{\"field\":\"y\"}},\"id\":\"e67993f2-416e-4ff5-9d66-5da609ceb16b\",\"type\":\"Rect\"},{\"attributes\":{\"callback\":null,\"column_names\":[\"x\",\"y\",\"width\",\"height\",\"color\",\"fill_alpha\",\"line_color\",\"line_alpha\",\"label\"],\"data\":{\"SP\":[\"SP06\"],\"chart_index\":[{\"SP\":\"SP06\"}],\"color\":[\"#01A1DD\"],\"fill_alpha\":[0.8],\"height\":[656.0],\"label\":[{\"SP\":\"SP06\"}],\"line_alpha\":[1.0],\"line_color\":[\"white\"],\"width\":[0.8],\"x\":[\"SP06\"],\"y\":[328.0]}},\"id\":\"a3eba71d-bfa9-401f-8c2a-ddb6baba8c5e\",\"type\":\"ColumnDataSource\"},{\"attributes\":{\"data_source\":{\"id\":\"66c7e0af-4039-4e78-9f27-1f91005aaa50\",\"type\":\"ColumnDataSource\"},\"glyph\":{\"id\":\"ac641fb0-c2ae-4a99-a1ab-9ea0e66ecbe6\",\"type\":\"Rect\"},\"hover_glyph\":null,\"muted_glyph\":null},\"id\":\"7a990a1a-0cf7-4cfd-bf24-2d0db294e972\",\"type\":\"GlyphRenderer\"},{\"attributes\":{\"data_source\":{\"id\":\"a3eba71d-bfa9-401f-8c2a-ddb6baba8c5e\",\"type\":\"ColumnDataSource\"},\"glyph\":{\"id\":\"937d3d9e-7007-4e48-8d90-04a1198fc56e\",\"type\":\"Rect\"},\"hover_glyph\":null,\"muted_glyph\":null},\"id\":\"7c28f09d-1c6e-4da9-b5ef-14b2f53ae913\",\"type\":\"GlyphRenderer\"},{\"attributes\":{\"fill_alpha\":{\"field\":\"fill_alpha\"},\"fill_color\":{\"field\":\"color\"},\"height\":{\"field\":\"height\",\"units\":\"data\"},\"line_color\":{\"field\":\"line_color\"},\"width\":{\"field\":\"width\",\"units\":\"data\"},\"x\":{\"field\":\"x\"},\"y\":{\"field\":\"y\"}},\"id\":\"e6c97f57-867d-45fe-8c48-e04424e634c6\",\"type\":\"Rect\"},{\"attributes\":{\"fill_alpha\":{\"field\":\"fill_alpha\"},\"fill_color\":{\"field\":\"color\"},\"height\":{\"field\":\"height\",\"units\":\"data\"},\"line_color\":{\"field\":\"line_color\"},\"width\":{\"field\":\"width\",\"units\":\"data\"},\"x\":{\"field\":\"x\"},\"y\":{\"field\":\"y\"}},\"id\":\"ac641fb0-c2ae-4a99-a1ab-9ea0e66ecbe6\",\"type\":\"Rect\"},{\"attributes\":{\"fill_alpha\":{\"field\":\"fill_alpha\"},\"fill_color\":{\"field\":\"color\"},\"height\":{\"field\":\"height\",\"units\":\"data\"},\"line_color\":{\"field\":\"line_color\"},\"width\":{\"field\":\"width\",\"units\":\"data\"},\"x\":{\"field\":\"x\"},\"y\":{\"field\":\"y\"}},\"id\":\"937d3d9e-7007-4e48-8d90-04a1198fc56e\",\"type\":\"Rect\"},{\"attributes\":{\"data_source\":{\"id\":\"6f814679-700c-445f-94bc-3cc0930f2037\",\"type\":\"ColumnDataSource\"},\"glyph\":{\"id\":\"e6c97f57-867d-45fe-8c48-e04424e634c6\",\"type\":\"Rect\"},\"hover_glyph\":null,\"muted_glyph\":null},\"id\":\"b52e24a8-9a8e-4417-bbea-ea2cc2810590\",\"type\":\"GlyphRenderer\"},{\"attributes\":{\"callback\":null,\"column_names\":[\"x\",\"y\",\"width\",\"height\",\"color\",\"fill_alpha\",\"line_color\",\"line_alpha\",\"label\"],\"data\":{\"SP\":[\"SP03\"],\"chart_index\":[{\"SP\":\"SP03\"}],\"color\":[\"#01A1DD\"],\"fill_alpha\":[0.8],\"height\":[451.0],\"label\":[{\"SP\":\"SP03\"}],\"line_alpha\":[1.0],\"line_color\":[\"white\"],\"width\":[0.8],\"x\":[\"SP03\"],\"y\":[225.5]}},\"id\":\"519cd169-6734-48bb-993d-15f0d8e53479\",\"type\":\"ColumnDataSource\"},{\"attributes\":{\"fill_alpha\":{\"field\":\"fill_alpha\"},\"fill_color\":{\"field\":\"color\"},\"height\":{\"field\":\"height\",\"units\":\"data\"},\"line_color\":{\"field\":\"line_color\"},\"width\":{\"field\":\"width\",\"units\":\"data\"},\"x\":{\"field\":\"x\"},\"y\":{\"field\":\"y\"}},\"id\":\"86a7f4e5-fe99-4fda-9af9-159291a3c792\",\"type\":\"Rect\"},{\"attributes\":{\"data_source\":{\"id\":\"938ded2b-379b-434a-a81a-584c91c391ff\",\"type\":\"ColumnDataSource\"},\"glyph\":{\"id\":\"86a7f4e5-fe99-4fda-9af9-159291a3c792\",\"type\":\"Rect\"},\"hover_glyph\":null,\"muted_glyph\":null},\"id\":\"7b44f239-a7f2-4dbd-ace6-a59a71676520\",\"type\":\"GlyphRenderer\"},{\"attributes\":{},\"id\":\"72b5dc96-0d8a-483e-aebf-af257227351e\",\"type\":\"CategoricalTicker\"},{\"attributes\":{\"callback\":null,\"column_names\":[\"x\",\"y\",\"width\",\"height\",\"color\",\"fill_alpha\",\"line_color\",\"line_alpha\",\"label\"],\"data\":{\"SP\":[\"SP04\"],\"chart_index\":[{\"SP\":\"SP04\"}],\"color\":[\"#01A1DD\"],\"fill_alpha\":[0.8],\"height\":[365.0],\"label\":[{\"SP\":\"SP04\"}],\"line_alpha\":[1.0],\"line_color\":[\"white\"],\"width\":[0.8],\"x\":[\"SP04\"],\"y\":[182.5]}},\"id\":\"71b25720-0396-4ab8-b9f2-929eb5ec3948\",\"type\":\"ColumnDataSource\"},{\"attributes\":{\"callback\":null,\"column_names\":[\"x\",\"y\",\"width\",\"height\",\"color\",\"fill_alpha\",\"line_color\",\"line_alpha\",\"label\"],\"data\":{\"SP\":[\"SP05\"],\"chart_index\":[{\"SP\":\"SP05\"}],\"color\":[\"#01A1DD\"],\"fill_alpha\":[0.8],\"height\":[313.0],\"label\":[{\"SP\":\"SP05\"}],\"line_alpha\":[1.0],\"line_color\":[\"white\"],\"width\":[0.8],\"x\":[\"SP05\"],\"y\":[156.5]}},\"id\":\"ad0624c0-d9ba-4860-9226-a513002e5432\",\"type\":\"ColumnDataSource\"},{\"attributes\":{\"data_source\":{\"id\":\"ad0624c0-d9ba-4860-9226-a513002e5432\",\"type\":\"ColumnDataSource\"},\"glyph\":{\"id\":\"d98e66b2-2113-45f4-ba1a-53d7bdc0c5a6\",\"type\":\"Rect\"},\"hover_glyph\":null,\"muted_glyph\":null},\"id\":\"61083c77-52c2-47e3-99c5-f404b58ac050\",\"type\":\"GlyphRenderer\"},{\"attributes\":{\"fill_alpha\":{\"field\":\"fill_alpha\"},\"fill_color\":{\"field\":\"color\"},\"height\":{\"field\":\"height\",\"units\":\"data\"},\"line_color\":{\"field\":\"line_color\"},\"width\":{\"field\":\"width\",\"units\":\"data\"},\"x\":{\"field\":\"x\"},\"y\":{\"field\":\"y\"}},\"id\":\"61fa5193-1801-40d8-9b7c-a0510d1309e5\",\"type\":\"Rect\"},{\"attributes\":{\"fill_alpha\":{\"field\":\"fill_alpha\"},\"fill_color\":{\"field\":\"color\"},\"height\":{\"field\":\"height\",\"units\":\"data\"},\"line_color\":{\"field\":\"line_color\"},\"width\":{\"field\":\"width\",\"units\":\"data\"},\"x\":{\"field\":\"x\"},\"y\":{\"field\":\"y\"}},\"id\":\"d98e66b2-2113-45f4-ba1a-53d7bdc0c5a6\",\"type\":\"Rect\"},{\"attributes\":{\"callback\":null,\"column_names\":[\"x\",\"y\",\"width\",\"height\",\"color\",\"fill_alpha\",\"line_color\",\"line_alpha\",\"label\"],\"data\":{\"SP\":[\"SP02\"],\"chart_index\":[{\"SP\":\"SP02\"}],\"color\":[\"#01A1DD\"],\"fill_alpha\":[0.8],\"height\":[299.0],\"label\":[{\"SP\":\"SP02\"}],\"line_alpha\":[1.0],\"line_color\":[\"white\"],\"width\":[0.8],\"x\":[\"SP02\"],\"y\":[149.5]}},\"id\":\"31f58780-691a-4868-a595-a22bbe8384b0\",\"type\":\"ColumnDataSource\"},{\"attributes\":{\"data_source\":{\"id\":\"71b25720-0396-4ab8-b9f2-929eb5ec3948\",\"type\":\"ColumnDataSource\"},\"glyph\":{\"id\":\"61fa5193-1801-40d8-9b7c-a0510d1309e5\",\"type\":\"Rect\"},\"hover_glyph\":null,\"muted_glyph\":null},\"id\":\"4a981667-6edf-412a-9840-f70ef1d42ab5\",\"type\":\"GlyphRenderer\"},{\"attributes\":{\"fill_alpha\":{\"field\":\"fill_alpha\"},\"fill_color\":{\"field\":\"color\"},\"height\":{\"field\":\"height\",\"units\":\"data\"},\"line_color\":{\"field\":\"line_color\"},\"width\":{\"field\":\"width\",\"units\":\"data\"},\"x\":{\"field\":\"x\"},\"y\":{\"field\":\"y\"}},\"id\":\"caa05ee6-cfbf-4013-b07a-4ee17bf3d12c\",\"type\":\"Rect\"},{\"attributes\":{\"data_source\":{\"id\":\"519cd169-6734-48bb-993d-15f0d8e53479\",\"type\":\"ColumnDataSource\"},\"glyph\":{\"id\":\"caa05ee6-cfbf-4013-b07a-4ee17bf3d12c\",\"type\":\"Rect\"},\"hover_glyph\":null,\"muted_glyph\":null},\"id\":\"5a43f31d-bd4a-48da-99ad-96191cc4bd89\",\"type\":\"GlyphRenderer\"}],\"root_ids\":[\"a54c5f84-eb33-4983-94a4-ad717c69d6bc\"]},\"title\":\"Bokeh Application\",\"version\":\"0.12.5\"}};\n",
       "            var render_items = [{\"docid\":\"d4124337-916e-4163-8d39-33f719a2dadc\",\"elementid\":\"09f50e03-e54d-47c7-a924-1ca825fe3f07\",\"modelid\":\"a54c5f84-eb33-4983-94a4-ad717c69d6bc\"}];\n",
       "            \n",
       "            Bokeh.embed.embed_items(docs_json, render_items);\n",
       "          };\n",
       "          if (document.readyState != \"loading\") fn();\n",
       "          else document.addEventListener(\"DOMContentLoaded\", fn);\n",
       "        })();\n",
       "      },\n",
       "      function(Bokeh) {\n",
       "      }\n",
       "    ];\n",
       "  \n",
       "    function run_inline_js() {\n",
       "      \n",
       "      if ((window.Bokeh !== undefined) || (force === true)) {\n",
       "        for (var i = 0; i < inline_js.length; i++) {\n",
       "          inline_js[i](window.Bokeh);\n",
       "        }if (force === true) {\n",
       "          display_loaded();\n",
       "        }} else if (Date.now() < window._bokeh_timeout) {\n",
       "        setTimeout(run_inline_js, 100);\n",
       "      } else if (!window._bokeh_failed_load) {\n",
       "        console.log(\"Bokeh: BokehJS failed to load within specified timeout.\");\n",
       "        window._bokeh_failed_load = true;\n",
       "      } else if (force !== true) {\n",
       "        var cell = $(document.getElementById(\"09f50e03-e54d-47c7-a924-1ca825fe3f07\")).parents('.cell').data().cell;\n",
       "        cell.output_area.append_execute_result(NB_LOAD_WARNING)\n",
       "      }\n",
       "  \n",
       "    }\n",
       "  \n",
       "    if (window._bokeh_is_loading === 0) {\n",
       "      console.log(\"Bokeh: BokehJS loaded, going straight to plotting\");\n",
       "      run_inline_js();\n",
       "    } else {\n",
       "      load_libs(js_urls, function() {\n",
       "        console.log(\"Bokeh: BokehJS plotting callback run at\", now());\n",
       "        run_inline_js();\n",
       "      });\n",
       "    }\n",
       "  }(this));\n",
       "</script>"
      ]
     },
     "metadata": {},
     "output_type": "display_data"
    }
   ],
   "source": [
    "show(plot)"
   ]
  },
  {
   "cell_type": "markdown",
   "metadata": {
    "slideshow": {
     "slide_type": "slide"
    }
   },
   "source": [
    "## How it works?\n",
    "\n",
    "Jupyter is composed of three elements: \n",
    "- **The notebook web application**: An interactive web application for writing and running code interactively and authoring notebook documents.\n",
    "- **Kernels** Python is default but many [other kernels are availables](https://github.com/jupyter/jupyter/wiki/Jupyter-kernels). \n",
    "- ** The notebook document himself**. A simple files on the filesystem with a .ipynb extension.\n"
   ]
  },
  {
   "cell_type": "markdown",
   "metadata": {
    "slideshow": {
     "slide_type": "slide"
    }
   },
   "source": [
    "## Sources used for this presentation and to go further : \n",
    "- [Jupyter Notebook Tutorial: The Definitive Guide](https://www.datacamp.com/community/tutorials/tutorial-jupyter-notebook/)\n",
    "- [Jupyter Community Resources](https://jupyter.org/community.html)"
   ]
  }
 ],
 "metadata": {
  "kernelspec": {
   "display_name": "Python 3",
   "language": "python",
   "name": "python3"
  },
  "language_info": {
   "codemirror_mode": {
    "name": "ipython",
    "version": 3
   },
   "file_extension": ".py",
   "mimetype": "text/x-python",
   "name": "python",
   "nbconvert_exporter": "python",
   "pygments_lexer": "ipython3",
   "version": "3.6.0"
  }
 },
 "nbformat": 4,
 "nbformat_minor": 2
}
